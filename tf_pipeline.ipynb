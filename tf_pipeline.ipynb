{
 "cells": [
  {
   "cell_type": "markdown",
   "metadata": {
    "colab_type": "text",
    "id": "3EAW5PFVUmdn"
   },
   "source": [
    "# [Unnamed Company] EEG Blink Detection\n",
    "\n",
    "----\n",
    "All code below is written by Arnold Yeung (2020-09-01)."
   ]
  },
  {
   "cell_type": "code",
   "execution_count": 111,
   "metadata": {
    "colab": {},
    "colab_type": "code",
    "id": "OuUfudjDUmdp",
    "lines_to_next_cell": 2
   },
   "outputs": [],
   "source": [
    "import os\n",
    "\n",
    "import pandas as pd\n",
    "import numpy as np\n",
    "import matplotlib.pyplot as plt\n",
    "\n",
    "from sklearn.model_selection import train_test_split\n",
    "from sklearn.preprocessing import MinMaxScaler\n",
    "from sklearn.linear_model import LogisticRegression\n",
    "from sklearn.tree import DecisionTreeClassifier\n",
    "from sklearn.ensemble import RandomForestClassifier\n",
    "from sklearn.svm import SVC\n",
    "from sklearn.metrics import accuracy_score, balanced_accuracy_score, precision_recall_curve, plot_precision_recall_curve, plot_roc_curve\n",
    "from sklearn.externals import joblib\n",
    "\n",
    "from IPython.display import display \n",
    "import warnings\n",
    "warnings.filterwarnings('ignore')\n",
    "\n",
    "r_seed = 101"
   ]
  },
  {
   "cell_type": "markdown",
   "metadata": {
    "colab_type": "text",
    "id": "wqeeqpfQUmd4"
   },
   "source": [
    "## Question 1: Machine Learning\n",
    "\n",
    "EEG data was collected during an eyes open/closed task. A challenge that we face while processing EEG signals for neurotech applications (including biofeedback for meditation purposes) is artifact removal. Blinks and eye movements are one of the primary sources of interference in the raw EEG signal being processed. In this exercise, your problem statement is to develop an eyes open-closed classification algorithm for EEG signals.\n",
    "\n",
    "The EEG data collected on all 4 channels was sampled at 256 Hz. The data was epoched using a moving window of 1 second window length and 1 second step size (1 second non-overlapping windows). \n",
    "\n",
    "- `q1_training_data.npy` contains the training set of EEG epochs with shape (n_epochs, n_channels, n_samples_per_epoch).\n",
    "- `q1_training_labels.npy` contains the labels for each epoch of the training set and has shape (n_epochs).\n",
    "- `q1_test_data.npy` contains the test set of EEG epochs with shape (n_epochs, n_channels, n_samples_per_epoch).\n",
    "\n",
    "The deliverables for this part of the coding test is to generate predictions for the test set. Also, provide performance metrics for validation of the training set."
   ]
  },
  {
   "cell_type": "markdown",
   "metadata": {
    "colab_type": "text",
    "id": "9wbieEFYUmd7"
   },
   "source": [
    "### Load data and labels"
   ]
  },
  {
   "cell_type": "code",
   "execution_count": 112,
   "metadata": {
    "colab": {
     "base_uri": "https://localhost:8080/",
     "height": 92
    },
    "colab_type": "code",
    "id": "5721D5F-UmeA",
    "outputId": "6d85e86a-7fc0-4b99-fc0d-f68f2b25178d",
    "scrolled": true
   },
   "outputs": [
    {
     "name": "stdout",
     "output_type": "stream",
     "text": [
      "Num channels:  4\n",
      "Sampling rate:  256\n",
      "Training data:  912\n",
      "Test data:  171\n"
     ]
    }
   ],
   "source": [
    "training_data = np.load('q1_training_data.npy')\n",
    "training_labels = np.load('q1_training_labels.npy')\n",
    "test_data = np.load('q1_test_data.npy')\n",
    "\n",
    "sampling_rate = 256\n",
    "\n",
    "n_train, n_channels, n_samples = training_data.shape\n",
    "n_test = test_data.shape[0]\n",
    "\n",
    "print(\"Num channels: \", n_channels)\n",
    "print(\"Sampling rate: \", n_samples)\n",
    "print(\"Training data: \", n_train)\n",
    "print(\"Test data: \", n_test)\n"
   ]
  },
  {
   "cell_type": "markdown",
   "metadata": {
    "colab_type": "text",
    "id": "dA6AvRK7UmeK"
   },
   "source": [
    "Convert the training labels into binary labels."
   ]
  },
  {
   "cell_type": "code",
   "execution_count": 113,
   "metadata": {
    "colab": {},
    "colab_type": "code",
    "id": "LLflODUjUmeL"
   },
   "outputs": [],
   "source": [
    "binary_training_labels = []\n",
    "for i in range(0, len(training_labels)):\n",
    "    if training_labels[i] == \"eyes_open\":\n",
    "        binary_training_labels.append(1)\n",
    "    else:\n",
    "        binary_training_labels.append(0)\n",
    "\n",
    "training_labels = binary_training_labels"
   ]
  },
  {
   "cell_type": "markdown",
   "metadata": {
    "colab_type": "text",
    "id": "ySxuY8erUmeS"
   },
   "source": [
    "Because some of the training data is `nan`, we remove entries which contain `nan`."
   ]
  },
  {
   "cell_type": "code",
   "execution_count": 114,
   "metadata": {
    "colab": {
     "base_uri": "https://localhost:8080/",
     "height": 36
    },
    "colab_type": "code",
    "id": "X3oIuWbPUmeT",
    "outputId": "5b966cbe-15c2-44c1-eeb5-94bee4995d9e"
   },
   "outputs": [
    {
     "data": {
      "text/plain": [
       "array([], shape=(0, 3), dtype=int64)"
      ]
     },
     "execution_count": 114,
     "metadata": {
      "tags": []
     },
     "output_type": "execute_result"
    }
   ],
   "source": [
    "nan_idx = tuple(np.argwhere(np.isnan(training_data))[:, 0])\n",
    "training_data = np.delete(training_data, nan_idx, axis=0)\n",
    "training_labels = np.delete(training_labels, nan_idx, axis=0)\n",
    "\n",
    "np.isnan(training_data).any()\n",
    "np.argwhere(np.isnan(training_data))"
   ]
  },
  {
   "cell_type": "markdown",
   "metadata": {
    "colab_type": "text",
    "id": "QyYs7cmFUmea"
   },
   "source": [
    "### Feature Processing\n",
    "Because the relative time of a sample in each epoch should not have any correlation with the label, we convert the data into the frequency domain, such that it is temporally-independent. \n",
    "\n",
    "We hypothesize that there would be significant differences between the two classes in the frequency domain."
   ]
  },
  {
   "cell_type": "code",
   "execution_count": 115,
   "metadata": {
    "colab": {
     "base_uri": "https://localhost:8080/",
     "height": 316
    },
    "colab_type": "code",
    "id": "oQkc8MN4Umek",
    "outputId": "67495611-13d8-44a0-9507-38b3ae09e418"
   },
   "outputs": [
    {
     "name": "stdout",
     "output_type": "stream",
     "text": [
      "[ 1.  2.  3.  4.  5.  6.  7.  8.  9. 10. 11. 12. 13. 14. 15. 16. 17. 18.\n",
      " 19. 20. 21. 22. 23. 24. 25. 26. 27. 28. 29. 30. 31. 32. 33. 34. 35.]\n"
     ]
    },
    {
     "data": {
      "image/png": "[encoded data removed]",
      "text/plain": [
       "<Figure size 432x288 with 1 Axes>"
      ]
     },
     "metadata": {
      "needs_background": "light",
      "tags": []
     },
     "output_type": "display_data"
    }
   ],
   "source": [
    "def get_index_in_freq(freq, frequencies):\n",
    "    \"\"\"\n",
    "    Get the index of the element in frequencies which is equal to or less than freq \n",
    "    \"\"\"\n",
    "    index = 0\n",
    "    for i in range(0, len(frequencies)):\n",
    "        if frequencies[i] > freq:\n",
    "            return index\n",
    "        else:\n",
    "            index = i\n",
    "\n",
    "def convert_to_fft(data, sampling_rate, freq_range=[1, 35]):\n",
    "    \"\"\"\n",
    "    Converts the numpy data (n_epochs, n_channels, n_samples) to real component of FFT features \n",
    "    (n_epochs, n_channels * n_features).\n",
    "    \"\"\"\n",
    "    if len(data.shape) != 3:\n",
    "        raise ValueError(\"Wrong data size.\")\n",
    "    \n",
    "    time_period = data.shape[-1]/sampling_rate\n",
    "    frequencies = np.arange(data.shape[-1])/time_period\n",
    "\n",
    "    min_freq_idx = get_index_in_freq(freq_range[0], frequencies)\n",
    "    max_freq_idx = get_index_in_freq(freq_range[1], frequencies)\n",
    "    frequencies = frequencies[min_freq_idx:max_freq_idx+1]\n",
    "    \n",
    "    fft_features = (np.fft.fft(data, axis=-1)/data.shape[-1])[:, :, min_freq_idx:max_freq_idx+1].real\n",
    "    \n",
    "    return frequencies, fft_features\n",
    "\n",
    "def plot_fft(frequencies, fft_features):\n",
    "    \"\"\"\n",
    "    Plot numpy array (n_samples, )\n",
    "    \"\"\"\n",
    "    axis = plt.plot(frequencies, fft_features)\n",
    "    plt.xlabel(\"Frequency (Hz)\")\n",
    "    plt.ylabel(\"Power\")\n",
    "\n",
    "frequencies, fft_features = convert_to_fft(training_data, sampling_rate)\n",
    "print(frequencies)\n",
    "plot_fft(frequencies[2:], fft_features[1][0][2:])\n"
   ]
  },
  {
   "cell_type": "code",
   "execution_count": 116,
   "metadata": {
    "colab": {
     "base_uri": "https://localhost:8080/",
     "height": 36
    },
    "colab_type": "code",
    "id": "ZJv4A_ysUmeo",
    "lines_to_next_cell": 2,
    "outputId": "00c2d8e2-7dcd-40fb-9939-d68f62e7e6df"
   },
   "outputs": [
    {
     "name": "stdout",
     "output_type": "stream",
     "text": [
      "There are a total of  140  features.\n"
     ]
    }
   ],
   "source": [
    "frequencies, fft_train = convert_to_fft(training_data, sampling_rate)\n",
    "_, fft_test = convert_to_fft(test_data, sampling_rate)\n",
    "\n",
    "n_train, n_channels, n_features = fft_train.shape\n",
    "n_test, _, _ = fft_test.shape\n",
    "\n",
    "# flatten features\n",
    "fft_train = fft_train.reshape((n_train, n_channels * n_features))\n",
    "fft_test = fft_test.reshape((n_test, n_channels * n_features))\n",
    "\n",
    "print(\"There are a total of \", fft_train.shape[-1], \" features.\")"
   ]
  },
  {
   "cell_type": "markdown",
   "metadata": {
    "colab_type": "text",
    "id": "MT0UKD52Umes"
   },
   "source": [
    "### Split into test, validation, and training set\n",
    "We now split the training dataset into training, validation, and test. We use a 80-10-10 split.  Note that this test set is different from the provided one.  This test set is used for measuring the accuracy and is labeled."
   ]
  },
  {
   "cell_type": "code",
   "execution_count": 117,
   "metadata": {
    "colab": {
     "base_uri": "https://localhost:8080/",
     "height": 36
    },
    "colab_type": "code",
    "id": "gxqUZ01EUmet",
    "outputId": "ffae13bb-e420-417b-8709-ccb0ea7f01da"
   },
   "outputs": [
    {
     "name": "stdout",
     "output_type": "stream",
     "text": [
      "(904, 141)\n"
     ]
    }
   ],
   "source": [
    "# combine labels with features\n",
    "fft_train = np.hstack((fft_train, np.array([training_labels]).transpose()))\n",
    "print(fft_train.shape)"
   ]
  },
  {
   "cell_type": "code",
   "execution_count": 118,
   "metadata": {
    "colab": {},
    "colab_type": "code",
    "id": "it1-7k9_Ume1",
    "lines_to_next_cell": 2
   },
   "outputs": [],
   "source": [
    "ratio = {'train': 0.8, 'valid': 0.10, 'test': 0.10}\n",
    "valid_test_data, train_data = train_test_split(fft_train, test_size=ratio['train'], random_state=r_seed)\n",
    "\n",
    "split_ratio = float(ratio['valid']/(ratio['valid']+ratio['test']))\n",
    "tvalid_data, ttest_data = train_test_split(valid_test_data, test_size=split_ratio, random_state=r_seed)"
   ]
  },
  {
   "cell_type": "code",
   "execution_count": 119,
   "metadata": {
    "colab": {},
    "colab_type": "code",
    "id": "L16tSctjUme6"
   },
   "outputs": [],
   "source": [
    "# separate features from labels\n",
    "train_feats, train_labels = train_data[:, :-1], train_data[:, -1]\n",
    "tvalid_feats, tvalid_labels = tvalid_data[:, :-1], tvalid_data[:, -1]\n",
    "ttest_feats, ttest_labels = ttest_data[:, :-1], ttest_data[:, -1]"
   ]
  },
  {
   "cell_type": "code",
   "execution_count": 120,
   "metadata": {
    "colab": {
     "base_uri": "https://localhost:8080/",
     "height": 36
    },
    "colab_type": "code",
    "id": "nDNVhl4-Ume_",
    "outputId": "2cb6843e-06ee-42f7-cb6f-f243127e38e9"
   },
   "outputs": [
    {
     "data": {
      "text/plain": [
       "array([], shape=(0, 1), dtype=int64)"
      ]
     },
     "execution_count": 120,
     "metadata": {
      "tags": []
     },
     "output_type": "execute_result"
    }
   ],
   "source": [
    "scaler = MinMaxScaler()\n",
    "\n",
    "scaler.fit(train_feats)\n",
    "train_feats = scaler.transform(train_feats)\n",
    "tvalid_feats = scaler.transform(tvalid_feats)\n",
    "ttest_feats = scaler.transform(ttest_feats)\n",
    "\n",
    "np.isnan(train_labels).any()\n",
    "np.argwhere(np.isnan(train_labels))"
   ]
  },
  {
   "cell_type": "markdown",
   "metadata": {
    "colab_type": "text",
    "id": "o7Rkbr8aUmfH"
   },
   "source": [
    "### Traditional ML Model Fitting"
   ]
  },
  {
   "cell_type": "code",
   "execution_count": 121,
   "metadata": {
    "colab": {},
    "colab_type": "code",
    "id": "TybOJKIDUmfH"
   },
   "outputs": [],
   "source": [
    "if not os.path.exists('models'):\n",
    "    os.makedirs('models')\n",
    "\n",
    "scaler_filename = \"./models/scaler.pkl\"\n",
    "_ = joblib.dump(scaler, scaler_filename)\n",
    "\n",
    "model_filenames = {\n",
    "             'LogisticRegression': \"./models/lr.pkl\",\n",
    "             'RandomForest': \"./models/rf.pkl\",\n",
    "             'SVM': \"./models/svm.pkl\"\n",
    "            }\n",
    "\n",
    "top_model_configs = {}\n",
    "\n",
    "def train_logistic_regression(train_feats, train_labels, valid_feats, valid_labels):\n",
    "    \n",
    "    scores = {'penalty': [], 'C': [], 'train_acc': [], 'valid_acc': []}\n",
    "    \n",
    "    # parameters\n",
    "    penalties = ['none']\n",
    "    Cs = np.arange(0, 1.0+0.1, 0.1)\n",
    "    \n",
    "    max_acc = None\n",
    "    \n",
    "    for penalty in penalties:\n",
    "        for C in Cs:\n",
    "            logistic_regression = LogisticRegression(penalty=penalty, C=C)\n",
    "            logistic_regression.fit(train_feats, train_labels)\n",
    "            \n",
    "            train_predict = logistic_regression.predict(train_feats)\n",
    "            valid_predict = logistic_regression.predict(valid_feats)\n",
    "            valid_acc = accuracy_score(valid_labels, valid_predict)\n",
    "            train_acc = accuracy_score(train_labels, train_predict)\n",
    "\n",
    "            if max_acc is None or valid_acc > max_acc:\n",
    "                max_acc = valid_acc\n",
    "                top_model_configs['LogisticRegression'] = {'penalty': penalty,\n",
    "                                                           'C': C,\n",
    "                                                           'valid_acc': valid_acc,\n",
    "                                                           'train_acc': train_acc}\n",
    "                _ = joblib.dump(logistic_regression, model_filenames['LogisticRegression'])\n",
    "            \n",
    "            scores['penalty'].append(penalty)\n",
    "            scores['C'].append(C)\n",
    "            scores['train_acc'].append(train_acc)\n",
    "            scores['valid_acc'].append(valid_acc)\n",
    "    scores = pd.DataFrame.from_dict(scores)\n",
    "    return scores\n",
    "\n",
    "def train_support_vector_machine(train_feats, train_labels, valid_feats, valid_labels):\n",
    "    \n",
    "    scores = {'kernel': [], 'C': [], 'train_acc': [], 'valid_acc': []}\n",
    "    \n",
    "    # parameters\n",
    "    kernels = ['linear', 'poly', 'rbf', 'sigmoid']\n",
    "    Cs = np.arange(0.1, 1.0+0.1, 0.1)\n",
    "    \n",
    "    max_acc = None\n",
    "    \n",
    "    for kernel in kernels:\n",
    "        for C in Cs:\n",
    "            classifier = SVC(kernel=kernel, C=C)\n",
    "            classifier.fit(train_feats, train_labels)\n",
    "            \n",
    "            train_predict = classifier.predict(train_feats)\n",
    "            valid_predict = classifier.predict(valid_feats)\n",
    "            valid_acc = accuracy_score(valid_labels, valid_predict)\n",
    "            train_acc = accuracy_score(train_labels, train_predict)\n",
    "\n",
    "            if max_acc is None or valid_acc > max_acc:\n",
    "                max_acc = valid_acc\n",
    "                top_model_configs['SVM'] = {'kernel': kernel,\n",
    "                                            'C': C,\n",
    "                                            'valid_acc': valid_acc,\n",
    "                                            'train_acc': train_acc}\n",
    "                _ = joblib.dump(classifier, model_filenames['SVM'])\n",
    "            \n",
    "            scores['kernel'].append(kernel)\n",
    "            scores['C'].append(C)\n",
    "            scores['train_acc'].append(train_acc)\n",
    "            scores['valid_acc'].append(valid_acc)\n",
    "    scores = pd.DataFrame.from_dict(scores)\n",
    "    return scores\n",
    "\n",
    "def train_random_forest(train_feats, train_labels, valid_feats, valid_labels):\n",
    "    \n",
    "    scores = {'n_estimators': [], 'criterion': [], 'max_depth': [], 'min_samples_split': [],\n",
    "              'train_acc': [], 'valid_acc': []}\n",
    "    \n",
    "    # parameters\n",
    "    ns_estimators = [1, 2, 5, 10, 20, 50, 100]\n",
    "    criterions = ['gini', 'entropy']\n",
    "    max_depths = [5, 10, 20, 50]\n",
    "    min_samples_splits = [2, 5, 10, 20]\n",
    "    \n",
    "    max_acc = None\n",
    "    \n",
    "    for n_estimators in ns_estimators:\n",
    "        for criterion in criterions:\n",
    "            for max_depth in max_depths:\n",
    "                for min_samples_split in min_samples_splits:\n",
    "                    classifier = RandomForestClassifier(n_estimators=n_estimators, criterion=criterion, \n",
    "                                                       max_depth=max_depth, min_samples_split=min_samples_split,\n",
    "                                                       random_state=r_seed)\n",
    "                    classifier.fit(train_feats, train_labels)\n",
    "\n",
    "                    train_predict = classifier.predict(train_feats)\n",
    "                    valid_predict = classifier.predict(valid_feats)\n",
    "                    valid_acc = accuracy_score(valid_labels, valid_predict)\n",
    "                    train_acc = accuracy_score(train_labels, train_predict)\n",
    "\n",
    "                    if max_acc is None or valid_acc > max_acc:\n",
    "                        max_acc = valid_acc\n",
    "                        top_model_configs['RandomForest'] = {'n_estimators': n_estimators,\n",
    "                                                             'criterion': criterion,\n",
    "                                                             'max_depth': max_depth,\n",
    "                                                             'min_samples_split': min_samples_split,\n",
    "                                                             'valid_acc': valid_acc,\n",
    "                                                             'train_acc': train_acc}\n",
    "                        _ = joblib.dump(classifier, model_filenames['RandomForest'])\n",
    "\n",
    "                    scores['n_estimators'].append(n_estimators)\n",
    "                    scores['criterion'].append(criterion)\n",
    "                    scores['max_depth'].append(max_depth)\n",
    "                    scores['min_samples_split'].append(min_samples_split)\n",
    "                    scores['train_acc'].append(train_acc)\n",
    "                    scores['valid_acc'].append(valid_acc)\n",
    "    scores = pd.DataFrame.from_dict(scores)\n",
    "    return scores"
   ]
  },
  {
   "cell_type": "code",
   "execution_count": 122,
   "metadata": {
    "colab": {},
    "colab_type": "code",
    "id": "4NJ3lSPQUmfM"
   },
   "outputs": [],
   "source": [
    "lr_scores = train_logistic_regression(train_feats, train_labels, tvalid_feats, tvalid_labels)\n",
    "svm_scores = train_support_vector_machine(train_feats, train_labels, tvalid_feats, tvalid_labels)\n",
    "rf_scores = train_random_forest(train_feats, train_labels, tvalid_feats, tvalid_labels)"
   ]
  },
  {
   "cell_type": "code",
   "execution_count": 123,
   "metadata": {
    "colab": {
     "base_uri": "https://localhost:8080/",
     "height": 279
    },
    "colab_type": "code",
    "id": "a8SSQrh1UmfR",
    "outputId": "ebecf74d-f2c5-4c13-ceb1-1d4d1e7d29b7"
   },
   "outputs": [
    {
     "data": {
      "text/plain": [
       "{'LogisticRegression': {'C': 0.0,\n",
       "  'penalty': 'none',\n",
       "  'train_acc': 0.8024861878453039,\n",
       "  'valid_acc': 0.6444444444444445},\n",
       " 'RandomForest': {'criterion': 'entropy',\n",
       "  'max_depth': 20,\n",
       "  'min_samples_split': 10,\n",
       "  'n_estimators': 2,\n",
       "  'train_acc': 0.8825966850828729,\n",
       "  'valid_acc': 0.8111111111111111},\n",
       " 'SVM': {'C': 0.1,\n",
       "  'kernel': 'linear',\n",
       "  'train_acc': 0.6975138121546961,\n",
       "  'valid_acc': 0.7555555555555555}}"
      ]
     },
     "execution_count": 123,
     "metadata": {
      "tags": []
     },
     "output_type": "execute_result"
    }
   ],
   "source": [
    "top_model_configs"
   ]
  },
  {
   "cell_type": "markdown",
   "metadata": {
    "colab_type": "text",
    "id": "2tW_iyKoUmfW"
   },
   "source": [
    "We now obtain the best model based on the validation accuracy."
   ]
  },
  {
   "cell_type": "code",
   "execution_count": 124,
   "metadata": {
    "colab": {
     "base_uri": "https://localhost:8080/",
     "height": 36
    },
    "colab_type": "code",
    "id": "VEvunzdoUmfX",
    "outputId": "27de80f0-9f47-44f8-f566-bc581830603e"
   },
   "outputs": [
    {
     "name": "stdout",
     "output_type": "stream",
     "text": [
      "The top model is RandomForest with a validation accuracy of 0.8111111111111111 .\n"
     ]
    }
   ],
   "source": [
    "top_model_name = None\n",
    "top_valid_acc = None\n",
    "for model in top_model_configs:\n",
    "    if top_model_name is None or top_model_configs[model]['valid_acc'] > top_valid_acc:\n",
    "        top_model_name = model\n",
    "        top_valid_acc = top_model_configs[model]['valid_acc']\n",
    "\n",
    "print(\"The top model is\", top_model_name, \"with a validation accuracy of\", top_valid_acc, \".\")"
   ]
  },
  {
   "cell_type": "markdown",
   "metadata": {
    "colab_type": "text",
    "id": "z-Ti6VfdUmfb"
   },
   "source": [
    "We now run this model for the test data which find an approximate test accuracy."
   ]
  },
  {
   "cell_type": "code",
   "execution_count": 125,
   "metadata": {
    "colab": {
     "base_uri": "https://localhost:8080/",
     "height": 859
    },
    "colab_type": "code",
    "id": "KCcgXgqOUmfc",
    "outputId": "c29fe9e1-422b-41a7-8c12-2d3e2b99149e"
   },
   "outputs": [
    {
     "name": "stdout",
     "output_type": "stream",
     "text": [
      "The test accuracy for LogisticRegression  is 0.6\n",
      "The test accuracy for RandomForest  is 0.7\n",
      "The test accuracy for SVM  is 0.6777777777777778\n"
     ]
    },
    {
     "data": {
      "image/png": "[encoded data removed]",
      "text/plain": [
       "<Figure size 432x288 with 1 Axes>"
      ]
     },
     "metadata": {
      "needs_background": "light",
      "tags": []
     },
     "output_type": "display_data"
    },
    {
     "data": {
      "image/png": "[encoded data removed]",
      "text/plain": [
       "<Figure size 432x288 with 1 Axes>"
      ]
     },
     "metadata": {
      "needs_background": "light",
      "tags": []
     },
     "output_type": "display_data"
    },
    {
     "data": {
      "image/png": "[encoded data removed]",
      "text/plain": [
       "<Figure size 432x288 with 1 Axes>"
      ]
     },
     "metadata": {
      "needs_background": "light",
      "tags": []
     },
     "output_type": "display_data"
    }
   ],
   "source": [
    "for model in model_filenames:\n",
    "  clf = joblib.load(model_filenames[model])\n",
    "  ttest_predict = clf.predict(ttest_feats)\n",
    "  ttest_acc = accuracy_score(ttest_labels, ttest_predict)\n",
    "\n",
    "  print(\"The test accuracy for\", model, \" is\", ttest_acc)\n",
    "  \n",
    "  plot_roc_curve(clf, ttest_feats, ttest_labels)"
   ]
  },
  {
   "cell_type": "markdown",
   "metadata": {
    "colab_type": "text",
    "id": "oKVH7RSVUmff"
   },
   "source": [
    "### Predict Test Set using Traditional ML\n",
    "We now predict the labels of the test data.  We save the output predictions to `q1_test_labels.npy`.  Note that we do not predict for data which contains `NaN`."
   ]
  },
  {
   "cell_type": "code",
   "execution_count": 126,
   "metadata": {
    "colab": {},
    "colab_type": "code",
    "id": "M791fDxFUmfg"
   },
   "outputs": [],
   "source": [
    "def run_prediction(scaler_file, clf_file, data):\n",
    "    scaler = joblib.load(scaler_file)\n",
    "    clf = joblib.load(clf_file)\n",
    "    \n",
    "    # automatically return NaN for epochs with NaN \n",
    "    nan_indices = set(np.argwhere(np.isnan(data))[:, 0])    \n",
    "    \n",
    "    n_epochs = data.shape[0]\n",
    "    predict_labels = []\n",
    "\n",
    "    if nan_indices:\n",
    "        valid_epochs = [x for x in range(0, n_epochs) if x not in nan_indices]\n",
    "        for epoch in range(0, n_epochs):\n",
    "            if epoch in valid_epochs:\n",
    "                prediction = clf.predict(scaler.transform(np.array([data[epoch, :]])))[0]\n",
    "                predict_labels.append(prediction)\n",
    "            else:\n",
    "                print(\"Epoch \", epoch, \" contains NaN and cannot be predicted for.\")\n",
    "                predict_labels.append(np.nan)\n",
    "    else:\n",
    "        predict_labels = clf.predict(scaler.transform(data))\n",
    "    \n",
    "    # convert ot numpy array\n",
    "    if not isinstance(predict_labels, np.ndarray):\n",
    "        predict_labels = np.array(predict_labels)\n",
    "    \n",
    "    return predict_labels"
   ]
  },
  {
   "cell_type": "code",
   "execution_count": 127,
   "metadata": {
    "colab": {
     "base_uri": "https://localhost:8080/",
     "height": 298
    },
    "colab_type": "code",
    "id": "EHiSq-QNUmfl",
    "outputId": "38becfb1-62de-44b1-ca72-4d509c8c9fc2"
   },
   "outputs": [
    {
     "name": "stdout",
     "output_type": "stream",
     "text": [
      "Epoch  169  contains NaN and cannot be predicted for.\n"
     ]
    },
    {
     "data": {
      "text/plain": [
       "array([ 1.,  0.,  0.,  1.,  0.,  0.,  0.,  1.,  0.,  0.,  0.,  0.,  0.,\n",
       "        0.,  0.,  0.,  0.,  0.,  0.,  0.,  0.,  0.,  0.,  0.,  0.,  0.,\n",
       "        0.,  0.,  0.,  0.,  0.,  1.,  0.,  0.,  0.,  0.,  0.,  0.,  0.,\n",
       "        0.,  0.,  0.,  0.,  0.,  0.,  0.,  0.,  0.,  0.,  0.,  1.,  1.,\n",
       "        0.,  0.,  0.,  0.,  0.,  0.,  0.,  0.,  0.,  0.,  0.,  0.,  0.,\n",
       "        0.,  0.,  0.,  0.,  0.,  0.,  0.,  0.,  0.,  0.,  0.,  1.,  0.,\n",
       "        0.,  0.,  0.,  0.,  0.,  0.,  0.,  0.,  0.,  0.,  0.,  0.,  0.,\n",
       "        0.,  0.,  1.,  1.,  0.,  1.,  0.,  0.,  0.,  1.,  0.,  0.,  0.,\n",
       "        0.,  0.,  0.,  0.,  0.,  0.,  0.,  0.,  0.,  0.,  0.,  0.,  0.,\n",
       "        0.,  0.,  0.,  0.,  1.,  1.,  0.,  0.,  0.,  0.,  0.,  0.,  0.,\n",
       "        1.,  1.,  0.,  0.,  0.,  0.,  0.,  0.,  0.,  0.,  0.,  0.,  0.,\n",
       "        1.,  0.,  1.,  1.,  0.,  0.,  0.,  1.,  1.,  1.,  1.,  0.,  0.,\n",
       "        1.,  0.,  0.,  1.,  1.,  0.,  0.,  0.,  0.,  0.,  1.,  0.,  0.,\n",
       "       nan,  0.])"
      ]
     },
     "metadata": {
      "tags": []
     },
     "output_type": "display_data"
    }
   ],
   "source": [
    "predict_labels = run_prediction(scaler_filename, model_filenames[top_model_name], fft_test)\n",
    "display(predict_labels)\n",
    "np.save('q1_test_labels.npy', predict_labels)"
   ]
  },
  {
   "cell_type": "markdown",
   "metadata": {
    "colab_type": "text",
    "id": "dFQDvAsKVRZA"
   },
   "source": [
    "### Deep Learning Model Fitting\n",
    "We use Keras to implement a RNN which captures the temporal features within the data. We use a many-to-one unidirectional LSTM architecture."
   ]
  },
  {
   "cell_type": "code",
   "execution_count": 128,
   "metadata": {
    "colab": {},
    "colab_type": "code",
    "id": "VtiJDEVFVezf"
   },
   "outputs": [],
   "source": [
    "import tensorflow as tf\n",
    "import tensorflow.keras as keras\n",
    "from tensorflow.keras import Input, Model\n",
    "from tensorflow.keras.layers import LSTM, Dense, Concatenate, Reshape, Dropout, BatchNormalization\n",
    "from tensorflow.keras.models import Sequential, load_model\n",
    "\n",
    "from sklearn.utils import class_weight\n",
    "\n",
    "from numpy.random import seed\n",
    "seed(r_seed)\n",
    "from tensorflow.random import set_seed\n",
    "set_seed(r_seed)"
   ]
  },
  {
   "cell_type": "code",
   "execution_count": 129,
   "metadata": {
    "colab": {},
    "colab_type": "code",
    "id": "tZqucB-IcAQW"
   },
   "outputs": [],
   "source": [
    "class LSTM_RNN():\n",
    "\n",
    "  def __init__(self, params):\n",
    "    self.n_epochs = params['n_epochs']\n",
    "    self.n_timesteps = params['n_timesteps']\n",
    "    self.n_features = params['n_features']\n",
    "    self.n_output_dim = params['n_output_dim']\n",
    "    self.n_hidden_units = params['n_hidden_units']\n",
    "    self.activation = params['activation']\n",
    "    self.batch_size = params['batch_size']\n",
    "    self.train_epochs = params['train_epochs']\n",
    "    self.unbalanced = params['unbalanced']\n",
    "    self.dropout = params['dropout']\n",
    "    self.lr = params['learning_rate']\n",
    "\n",
    "\n",
    "    self.model = Sequential()\n",
    "    self.model.add(Input(shape=(self.n_timesteps, self.n_features)))\n",
    "    self.model.add(Dropout(self.dropout))\n",
    "    self.model.add(Dense(self.n_hidden_units, self.activation, \n",
    "                         kernel_regularizer=keras.regularizers.l2()))\n",
    "    self.model.add(BatchNormalization())\n",
    "    self.model.add(Dropout(self.dropout))\n",
    "    self.model.add(LSTM(self.n_hidden_units, self.activation, \n",
    "                        input_shape = (self.n_timesteps, self.n_features)))\n",
    "    self.model.add(Dense(self.n_output_dim, activation=\"sigmoid\",\n",
    "                         kernel_regularizer=keras.regularizers.l2()))\n",
    "\n",
    "    opt = keras.optimizers.Adam(learning_rate=self.lr)\n",
    "    self.model.compile(optimizer=opt, loss='binary_crossentropy', \n",
    "                       metrics=['accuracy'])\n",
    "    print(self.model.summary())\n",
    "  \n",
    "  def fit(self, train_feats, train_labels, valid_feats, valid_labels):\n",
    "\n",
    "    # calculate weights of each class -- unbalanced dataset\n",
    "    if self.unbalanced:\n",
    "      class_weights = class_weight.compute_class_weight('balanced',\n",
    "                                                        np.unique(train_labels),\n",
    "                                                        train_labels)\n",
    "      class_weights = {i : class_weights[i] for i in range(0, len(class_weights))}\n",
    "      print(\"Using class_weights of \", class_weights)\n",
    "\n",
    "      history = self.model.fit(train_feats, train_labels, \n",
    "                              batch_size=self.batch_size, epochs=self.train_epochs,\n",
    "                              validation_data=(valid_feats, valid_labels),\n",
    "                              class_weight=class_weights,\n",
    "                              verbose=1)\n",
    "    else:\n",
    "      history = self.model.fit(train_feats, train_labels, \n",
    "                              batch_size=self.batch_size, epochs=self.train_epochs,\n",
    "                              validation_data=(valid_feats, valid_labels),\n",
    "                              verbose=1)\n",
    "    return history\n",
    "\n",
    "  def predict(self, feats):\n",
    "    return self.model.predict(feats, verbose=1)\n",
    "  \n",
    "  def save(self, filename):\n",
    "    self.model.save(filename)\n",
    "\n",
    "\n",
    "class LSTM_RNN_fft():\n",
    "\n",
    "  def __init__(self, params):\n",
    "    self.n_epochs = params['n_epochs']\n",
    "    self.n_timesteps = params['n_timesteps']\n",
    "    self.n_features = params['n_features']\n",
    "    self.n_output_dim = params['n_output_dim']\n",
    "    self.n_hidden_units = params['n_hidden_units']\n",
    "    self.activation = params['activation']\n",
    "    self.batch_size = params['batch_size']\n",
    "    self.train_epochs = params['train_epochs']\n",
    "    self.unbalanced = params['unbalanced']\n",
    "    self.dropout = params['dropout']\n",
    "    self.lr = params['learning_rate']\n",
    "\n",
    "    inputs = Input(shape=(self.n_timesteps, self.n_features))\n",
    "\n",
    "    # FFT pipeline\n",
    "    reshaped_inputs = Reshape(target_shape=(self.n_features, self.n_timesteps))(inputs)\n",
    "    fft_inputs = tf.cast(tf.signal.fft(tf.cast(reshaped_inputs, dtype=tf.complex64)), \n",
    "                         dtype=tf.float32)\n",
    "    \n",
    "    fft_feature_size = fft_inputs.shape[-1] * fft_inputs.shape[-2]\n",
    "\n",
    "    self.fft_model = Sequential()\n",
    "    self.fft_model.add(Dropout(self.dropout))\n",
    "    self.fft_model.add(BatchNormalization())\n",
    "    self.fft_model.add(Reshape(target_shape=(fft_feature_size,)))\n",
    "    self.fft_model.add(Dense(2*self.n_hidden_units, self.activation, \n",
    "                             kernel_regularizer=keras.regularizers.l2()))\n",
    "    self.fft_model.add(Dropout(self.dropout))\n",
    "    self.fft_model.add(Dense(self.n_hidden_units, self.activation,\n",
    "                             kernel_regularizer=keras.regularizers.l2()))\n",
    "    fft_outputs = self.fft_model(fft_inputs)\n",
    "\n",
    "    # RNN pipeline\n",
    "    self.rnn_model = Sequential()\n",
    "    self.rnn_model.add(Dropout(self.dropout))\n",
    "    self.rnn_model.add(Dense(self.n_hidden_units, self.activation, \n",
    "                             kernel_regularizer=keras.regularizers.l2()))\n",
    "    self.rnn_model.add(BatchNormalization())\n",
    "    self.rnn_model.add(Dropout(self.dropout))\n",
    "    self.rnn_model.add(LSTM(self.n_hidden_units, self.activation, \n",
    "                        input_shape = (self.n_timesteps, self.n_features)))\n",
    "    rnn_outputs = self.rnn_model(inputs)\n",
    "\n",
    "    # combined pipeline\n",
    "    concatenated = Concatenate(axis=-1)([fft_outputs, rnn_outputs])\n",
    "    outputs = Dense(self.n_output_dim, activation=\"sigmoid\",\n",
    "                    kernel_regularizer=keras.regularizers.l2())(concatenated)\n",
    "\n",
    "    self.model = Model(inputs, outputs)\n",
    "\n",
    "    opt = keras.optimizers.Adam(learning_rate=self.lr)\n",
    "    self.model.compile(optimizer=opt, loss='binary_crossentropy', \n",
    "                       metrics=['accuracy'])\n",
    "    print(self.model.summary())\n",
    "  \n",
    "  def fit(self, train_feats, train_labels, valid_feats, valid_labels):\n",
    "\n",
    "    # calculate weights of each class -- unbalanced dataset\n",
    "    if self.unbalanced:\n",
    "      class_weights = class_weight.compute_class_weight('balanced',\n",
    "                                                        np.unique(train_labels),\n",
    "                                                        train_labels)\n",
    "      class_weights = {i : class_weights[i] for i in range(0, len(class_weights))}\n",
    "      print(\"Using class_weights of \", class_weights)\n",
    "\n",
    "      history = self.model.fit(train_feats, train_labels, \n",
    "                              batch_size=self.batch_size, epochs=self.train_epochs,\n",
    "                              validation_data=(valid_feats, valid_labels),\n",
    "                              class_weight=class_weights,\n",
    "                              verbose=1)\n",
    "    else:\n",
    "      history = self.model.fit(train_feats, train_labels, \n",
    "                              batch_size=self.batch_size, epochs=self.train_epochs,\n",
    "                              validation_data=(valid_feats, valid_labels),\n",
    "                              verbose=1)\n",
    "    return history\n",
    "\n",
    "  def predict(self, feats):\n",
    "    return self.model.predict(feats, verbose=1)\n",
    "  \n",
    "  def save(self, filename):\n",
    "    self.model.save(filename)\n"
   ]
  },
  {
   "cell_type": "code",
   "execution_count": 130,
   "metadata": {
    "colab": {
     "base_uri": "https://localhost:8080/",
     "height": 36
    },
    "colab_type": "code",
    "id": "iJ4KH6-JmfBD",
    "outputId": "63bcc15c-2d68-49ec-e201-ba9d0b57b09e"
   },
   "outputs": [
    {
     "name": "stdout",
     "output_type": "stream",
     "text": [
      "(904, 4, 256)\n"
     ]
    }
   ],
   "source": [
    "print(training_data.shape)"
   ]
  },
  {
   "cell_type": "markdown",
   "metadata": {
    "colab_type": "text",
    "id": "__QwBxgim2X1"
   },
   "source": [
    "We reshape the training and test data to (n_epochs, n_timesteps, n_features).\n",
    "\n"
   ]
  },
  {
   "cell_type": "code",
   "execution_count": 131,
   "metadata": {
    "colab": {},
    "colab_type": "code",
    "id": "rchTc8g5mgqn"
   },
   "outputs": [],
   "source": [
    "rnn_training_data = training_data.reshape((training_data.shape[0], \n",
    "                                           training_data.shape[2], training_data.shape[1]))\n",
    "\n",
    "rnn_test_data = test_data.reshape((test_data.shape[0], test_data.shape[2], \n",
    "                                  test_data.shape[1]))"
   ]
  },
  {
   "cell_type": "markdown",
   "metadata": {
    "colab_type": "text",
    "id": "qsBc_730p7oK"
   },
   "source": [
    "We split the training dataset into training, validation, and test sets."
   ]
  },
  {
   "cell_type": "code",
   "execution_count": 132,
   "metadata": {
    "colab": {},
    "colab_type": "code",
    "id": "OXHOcRiQp6MT"
   },
   "outputs": [],
   "source": [
    "ratio = {'train': 0.8, 'valid': 0.10, 'test': 0.10}\n",
    "\n",
    "valid_test_feats, train_feats, valid_test_labels, train_labels = train_test_split(rnn_training_data, training_labels,\n",
    "                                                                                  test_size=ratio['train'], random_state=r_seed)\n",
    "\n",
    "split_ratio = float(ratio['valid']/(ratio['valid']+ratio['test']))\n",
    "tvalid_feats, ttest_feats, tvalid_labels, ttest_labels = train_test_split(valid_test_feats, \n",
    "                                                                          valid_test_labels,\n",
    "                                                                          test_size=split_ratio, \n",
    "                                                                          random_state=r_seed)"
   ]
  },
  {
   "cell_type": "markdown",
   "metadata": {
    "colab_type": "text",
    "id": "5hyL8JNprhA9"
   },
   "source": [
    "We create instances of our LSTM RNN model and FFT LSTM model and train them using the training data."
   ]
  },
  {
   "cell_type": "code",
   "execution_count": 133,
   "metadata": {
    "colab": {
     "base_uri": "https://localhost:8080/",
     "height": 1000
    },
    "colab_type": "code",
    "id": "b8erkuXwKlAj",
    "outputId": "a2c30cca-4a57-4aa3-e26f-a4287bc3e159"
   },
   "outputs": [
    {
     "name": "stdout",
     "output_type": "stream",
     "text": [
      "WARNING:tensorflow:Layer lstm_4 will not use cuDNN kernel since it doesn't meet the cuDNN kernel criteria. It will use generic GPU kernel as fallback when running on GPU\n"
     ]
    },
    {
     "name": "stderr",
     "output_type": "stream",
     "text": [
      "WARNING:tensorflow:Layer lstm_4 will not use cuDNN kernel since it doesn't meet the cuDNN kernel criteria. It will use generic GPU kernel as fallback when running on GPU\n"
     ]
    },
    {
     "name": "stdout",
     "output_type": "stream",
     "text": [
      "Model: \"sequential_6\"\n",
      "_________________________________________________________________\n",
      "Layer (type)                 Output Shape              Param #   \n",
      "=================================================================\n",
      "dropout_12 (Dropout)         (None, 256, 4)            0         \n",
      "_________________________________________________________________\n",
      "dense_12 (Dense)             (None, 256, 10)           50        \n",
      "_________________________________________________________________\n",
      "batch_normalization_6 (Batch (None, 256, 10)           40        \n",
      "_________________________________________________________________\n",
      "dropout_13 (Dropout)         (None, 256, 10)           0         \n",
      "_________________________________________________________________\n",
      "lstm_4 (LSTM)                (None, 10)                840       \n",
      "_________________________________________________________________\n",
      "dense_13 (Dense)             (None, 1)                 11        \n",
      "=================================================================\n",
      "Total params: 941\n",
      "Trainable params: 921\n",
      "Non-trainable params: 20\n",
      "_________________________________________________________________\n",
      "None\n",
      "Using class_weights of  {0: 0.7168316831683168, 1: 1.6529680365296804}\n",
      "Epoch 1/100\n",
      "12/12 [==============================] - 5s 388ms/step - loss: 0.7996 - accuracy: 0.3260 - val_loss: 0.7648 - val_accuracy: 0.6778\n",
      "Epoch 2/100\n",
      "12/12 [==============================] - 4s 320ms/step - loss: 0.7788 - accuracy: 0.4157 - val_loss: 0.6609 - val_accuracy: 0.7444\n",
      "Epoch 3/100\n",
      "12/12 [==============================] - 4s 304ms/step - loss: 0.7716 - accuracy: 0.4862 - val_loss: 0.6636 - val_accuracy: 0.7444\n",
      "Epoch 4/100\n",
      "12/12 [==============================] - 4s 341ms/step - loss: 0.7628 - accuracy: 0.5193 - val_loss: 0.6741 - val_accuracy: 0.7444\n",
      "Epoch 5/100\n",
      "12/12 [==============================] - 4s 330ms/step - loss: 0.7653 - accuracy: 0.5193 - val_loss: 0.6757 - val_accuracy: 0.7444\n",
      "Epoch 6/100\n",
      "12/12 [==============================] - 5s 387ms/step - loss: 0.7626 - accuracy: 0.5207 - val_loss: 0.6852 - val_accuracy: 0.7444\n",
      "Epoch 7/100\n",
      "12/12 [==============================] - 4s 331ms/step - loss: 0.7588 - accuracy: 0.5401 - val_loss: 0.6921 - val_accuracy: 0.7444\n",
      "Epoch 8/100\n",
      "12/12 [==============================] - 4s 333ms/step - loss: 0.7567 - accuracy: 0.5442 - val_loss: 0.6986 - val_accuracy: 0.7444\n",
      "Epoch 9/100\n",
      "12/12 [==============================] - 4s 311ms/step - loss: 0.7558 - accuracy: 0.4613 - val_loss: 0.6990 - val_accuracy: 0.7333\n",
      "Epoch 10/100\n",
      "12/12 [==============================] - 4s 317ms/step - loss: 0.7528 - accuracy: 0.4793 - val_loss: 0.7068 - val_accuracy: 0.7222\n",
      "Epoch 11/100\n",
      "12/12 [==============================] - 4s 343ms/step - loss: 0.7545 - accuracy: 0.4627 - val_loss: 0.7146 - val_accuracy: 0.7222\n",
      "Epoch 12/100\n",
      "12/12 [==============================] - 4s 332ms/step - loss: 0.7493 - accuracy: 0.4751 - val_loss: 0.7217 - val_accuracy: 0.7222\n",
      "Epoch 13/100\n",
      "12/12 [==============================] - 4s 309ms/step - loss: 0.7478 - accuracy: 0.4586 - val_loss: 0.7185 - val_accuracy: 0.7222\n",
      "Epoch 14/100\n",
      "12/12 [==============================] - 4s 325ms/step - loss: 0.7492 - accuracy: 0.4986 - val_loss: 0.7186 - val_accuracy: 0.7111\n",
      "Epoch 15/100\n",
      "12/12 [==============================] - 4s 364ms/step - loss: 0.7399 - accuracy: 0.5718 - val_loss: 0.7183 - val_accuracy: 0.7111\n",
      "Epoch 16/100\n",
      "12/12 [==============================] - 4s 331ms/step - loss: 0.7450 - accuracy: 0.5622 - val_loss: 0.7188 - val_accuracy: 0.7222\n",
      "Epoch 17/100\n",
      "12/12 [==============================] - 4s 328ms/step - loss: 0.7357 - accuracy: 0.6105 - val_loss: 0.7205 - val_accuracy: 0.7222\n",
      "Epoch 18/100\n",
      "12/12 [==============================] - 4s 325ms/step - loss: 0.7377 - accuracy: 0.5746 - val_loss: 0.7253 - val_accuracy: 0.6889\n",
      "Epoch 19/100\n",
      "12/12 [==============================] - 4s 343ms/step - loss: 0.7346 - accuracy: 0.5055 - val_loss: 0.7278 - val_accuracy: 0.6889\n",
      "Epoch 20/100\n",
      "12/12 [==============================] - 4s 323ms/step - loss: 0.7293 - accuracy: 0.5373 - val_loss: 0.7383 - val_accuracy: 0.6778\n",
      "Epoch 21/100\n",
      "12/12 [==============================] - 4s 329ms/step - loss: 0.7272 - accuracy: 0.5000 - val_loss: 0.7667 - val_accuracy: 0.6667\n",
      "Epoch 22/100\n",
      "12/12 [==============================] - 4s 306ms/step - loss: 0.7242 - accuracy: 0.4724 - val_loss: 0.8893 - val_accuracy: 0.4778\n",
      "Epoch 23/100\n",
      "12/12 [==============================] - 4s 328ms/step - loss: 0.7206 - accuracy: 0.4834 - val_loss: 0.8380 - val_accuracy: 0.3889\n",
      "Epoch 24/100\n",
      "12/12 [==============================] - 4s 318ms/step - loss: 0.7249 - accuracy: 0.5387 - val_loss: 0.8275 - val_accuracy: 0.3778\n",
      "Epoch 25/100\n",
      "12/12 [==============================] - 4s 317ms/step - loss: 0.7204 - accuracy: 0.5856 - val_loss: 0.8222 - val_accuracy: 0.5333\n",
      "Epoch 26/100\n",
      "12/12 [==============================] - 4s 309ms/step - loss: 0.7154 - accuracy: 0.5898 - val_loss: 0.8676 - val_accuracy: 0.4333\n",
      "Epoch 27/100\n",
      "12/12 [==============================] - 4s 309ms/step - loss: 0.7099 - accuracy: 0.5746 - val_loss: 0.8784 - val_accuracy: 0.5444\n",
      "Epoch 28/100\n",
      "12/12 [==============================] - 4s 333ms/step - loss: 0.7115 - accuracy: 0.5511 - val_loss: 0.8438 - val_accuracy: 0.6222\n",
      "Epoch 29/100\n",
      "12/12 [==============================] - 4s 345ms/step - loss: 0.7096 - accuracy: 0.5967 - val_loss: 0.8401 - val_accuracy: 0.6333\n",
      "Epoch 30/100\n",
      "12/12 [==============================] - 4s 366ms/step - loss: 0.7070 - accuracy: 0.5801 - val_loss: 0.8579 - val_accuracy: 0.6333\n",
      "Epoch 31/100\n",
      "12/12 [==============================] - 4s 318ms/step - loss: 0.7074 - accuracy: 0.5483 - val_loss: 0.8713 - val_accuracy: 0.6333\n",
      "Epoch 32/100\n",
      "12/12 [==============================] - 4s 306ms/step - loss: 0.7063 - accuracy: 0.5925 - val_loss: 0.8386 - val_accuracy: 0.6444\n",
      "Epoch 33/100\n",
      "12/12 [==============================] - 4s 304ms/step - loss: 0.7031 - accuracy: 0.6271 - val_loss: 0.8421 - val_accuracy: 0.6444\n",
      "Epoch 34/100\n",
      "12/12 [==============================] - 4s 304ms/step - loss: 0.7046 - accuracy: 0.5635 - val_loss: 0.8581 - val_accuracy: 0.6444\n",
      "Epoch 35/100\n",
      "12/12 [==============================] - 4s 323ms/step - loss: 0.7103 - accuracy: 0.5331 - val_loss: 0.9153 - val_accuracy: 0.6333\n",
      "Epoch 36/100\n",
      "12/12 [==============================] - 4s 330ms/step - loss: 0.7038 - accuracy: 0.5608 - val_loss: 0.9464 - val_accuracy: 0.6333\n",
      "Epoch 37/100\n",
      "12/12 [==============================] - 4s 317ms/step - loss: 0.7042 - accuracy: 0.5732 - val_loss: 0.8603 - val_accuracy: 0.6444\n",
      "Epoch 38/100\n",
      "12/12 [==============================] - 4s 305ms/step - loss: 0.7020 - accuracy: 0.5732 - val_loss: 0.8655 - val_accuracy: 0.6444\n",
      "Epoch 39/100\n",
      "12/12 [==============================] - 4s 354ms/step - loss: 0.7064 - accuracy: 0.5262 - val_loss: 0.9067 - val_accuracy: 0.6333\n",
      "Epoch 40/100\n",
      "12/12 [==============================] - 4s 333ms/step - loss: 0.7040 - accuracy: 0.5718 - val_loss: 0.8522 - val_accuracy: 0.6444\n",
      "Epoch 41/100\n",
      "12/12 [==============================] - 4s 319ms/step - loss: 0.6945 - accuracy: 0.6229 - val_loss: 0.8148 - val_accuracy: 0.6444\n",
      "Epoch 42/100\n",
      "12/12 [==============================] - 4s 313ms/step - loss: 0.7006 - accuracy: 0.5608 - val_loss: 0.8833 - val_accuracy: 0.6444\n",
      "Epoch 43/100\n",
      "12/12 [==============================] - 4s 331ms/step - loss: 0.6946 - accuracy: 0.5580 - val_loss: 0.8648 - val_accuracy: 0.6333\n",
      "Epoch 44/100\n",
      "12/12 [==============================] - 4s 304ms/step - loss: 0.6924 - accuracy: 0.6008 - val_loss: 0.7711 - val_accuracy: 0.6556\n",
      "Epoch 45/100\n",
      "12/12 [==============================] - 4s 328ms/step - loss: 0.7014 - accuracy: 0.5912 - val_loss: 0.7901 - val_accuracy: 0.6444\n",
      "Epoch 46/100\n",
      "12/12 [==============================] - 4s 300ms/step - loss: 0.6966 - accuracy: 0.6050 - val_loss: 0.8494 - val_accuracy: 0.6333\n",
      "Epoch 47/100\n",
      "12/12 [==============================] - 4s 334ms/step - loss: 0.6950 - accuracy: 0.6036 - val_loss: 0.8878 - val_accuracy: 0.6333\n",
      "Epoch 48/100\n",
      "12/12 [==============================] - 4s 328ms/step - loss: 0.6966 - accuracy: 0.5677 - val_loss: 0.8672 - val_accuracy: 0.6333\n",
      "Epoch 49/100\n",
      "12/12 [==============================] - 4s 328ms/step - loss: 0.6977 - accuracy: 0.5622 - val_loss: 0.8677 - val_accuracy: 0.6444\n",
      "Epoch 50/100\n",
      "12/12 [==============================] - 4s 335ms/step - loss: 0.6933 - accuracy: 0.6050 - val_loss: 1.0380 - val_accuracy: 0.5556\n",
      "Epoch 51/100\n",
      "12/12 [==============================] - 4s 317ms/step - loss: 0.6898 - accuracy: 0.6077 - val_loss: 1.7070 - val_accuracy: 0.3000\n",
      "Epoch 52/100\n",
      "12/12 [==============================] - 4s 336ms/step - loss: 0.6891 - accuracy: 0.6312 - val_loss: 1.3119 - val_accuracy: 0.4778\n",
      "Epoch 53/100\n",
      "12/12 [==============================] - 4s 370ms/step - loss: 0.6918 - accuracy: 0.5967 - val_loss: 2.8072 - val_accuracy: 0.2333\n",
      "Epoch 54/100\n",
      "12/12 [==============================] - 5s 402ms/step - loss: 0.6851 - accuracy: 0.6257 - val_loss: 2.8649 - val_accuracy: 0.2444\n",
      "Epoch 55/100\n",
      "12/12 [==============================] - 4s 369ms/step - loss: 0.6863 - accuracy: 0.6409 - val_loss: 2.8263 - val_accuracy: 0.2333\n",
      "Epoch 56/100\n",
      "12/12 [==============================] - 4s 325ms/step - loss: 0.6996 - accuracy: 0.6174 - val_loss: 1.4424 - val_accuracy: 0.4889\n",
      "Epoch 57/100\n",
      "12/12 [==============================] - 4s 353ms/step - loss: 0.6899 - accuracy: 0.6215 - val_loss: 0.9478 - val_accuracy: 0.6444\n",
      "Epoch 58/100\n",
      "12/12 [==============================] - 4s 332ms/step - loss: 0.6887 - accuracy: 0.6133 - val_loss: 0.9506 - val_accuracy: 0.6444\n",
      "Epoch 59/100\n",
      "12/12 [==============================] - 4s 306ms/step - loss: 0.6848 - accuracy: 0.6312 - val_loss: 0.9252 - val_accuracy: 0.6333\n",
      "Epoch 60/100\n",
      "12/12 [==============================] - 4s 315ms/step - loss: 0.6812 - accuracy: 0.6768 - val_loss: 0.9380 - val_accuracy: 0.6333\n",
      "Epoch 61/100\n",
      "12/12 [==============================] - 4s 313ms/step - loss: 0.6812 - accuracy: 0.6298 - val_loss: 0.8928 - val_accuracy: 0.6556\n",
      "Epoch 62/100\n",
      "12/12 [==============================] - 4s 352ms/step - loss: 0.6776 - accuracy: 0.5483 - val_loss: 0.8688 - val_accuracy: 0.6556\n",
      "Epoch 63/100\n",
      "12/12 [==============================] - 4s 305ms/step - loss: 0.6826 - accuracy: 0.5815 - val_loss: 0.8454 - val_accuracy: 0.6556\n",
      "Epoch 64/100\n",
      "12/12 [==============================] - 4s 332ms/step - loss: 0.6817 - accuracy: 0.6202 - val_loss: 0.8255 - val_accuracy: 0.6556\n",
      "Epoch 65/100\n",
      "12/12 [==============================] - 4s 322ms/step - loss: 0.6877 - accuracy: 0.6561 - val_loss: 0.8462 - val_accuracy: 0.6556\n",
      "Epoch 66/100\n",
      "12/12 [==============================] - 4s 306ms/step - loss: 0.6815 - accuracy: 0.6961 - val_loss: 0.8744 - val_accuracy: 0.6556\n",
      "Epoch 67/100\n",
      "12/12 [==============================] - 4s 318ms/step - loss: 0.6796 - accuracy: 0.5953 - val_loss: 0.8505 - val_accuracy: 0.6556\n",
      "Epoch 68/100\n",
      "12/12 [==============================] - 4s 326ms/step - loss: 0.6750 - accuracy: 0.5898 - val_loss: 0.8184 - val_accuracy: 0.6556\n",
      "Epoch 69/100\n",
      "12/12 [==============================] - 4s 322ms/step - loss: 0.6865 - accuracy: 0.6036 - val_loss: 0.6882 - val_accuracy: 0.7000\n",
      "Epoch 70/100\n",
      "12/12 [==============================] - 4s 360ms/step - loss: 0.6835 - accuracy: 0.7169 - val_loss: 0.6696 - val_accuracy: 0.7111\n",
      "Epoch 71/100\n",
      "12/12 [==============================] - 4s 365ms/step - loss: 0.6850 - accuracy: 0.6906 - val_loss: 0.6584 - val_accuracy: 0.7111\n",
      "Epoch 72/100\n",
      "12/12 [==============================] - 4s 306ms/step - loss: 0.6771 - accuracy: 0.6077 - val_loss: 0.6666 - val_accuracy: 0.7111\n",
      "Epoch 73/100\n",
      "12/12 [==============================] - 4s 319ms/step - loss: 0.6701 - accuracy: 0.6409 - val_loss: 0.6749 - val_accuracy: 0.7000\n",
      "Epoch 74/100\n",
      "12/12 [==============================] - 4s 303ms/step - loss: 0.7067 - accuracy: 0.5221 - val_loss: 0.6801 - val_accuracy: 0.7111\n",
      "Epoch 75/100\n",
      "12/12 [==============================] - 4s 315ms/step - loss: 0.6912 - accuracy: 0.6381 - val_loss: 0.6842 - val_accuracy: 0.7111\n",
      "Epoch 76/100\n",
      "12/12 [==============================] - 4s 333ms/step - loss: 0.6873 - accuracy: 0.6975 - val_loss: 0.6849 - val_accuracy: 0.7111\n",
      "Epoch 77/100\n",
      "12/12 [==============================] - 4s 354ms/step - loss: 0.6867 - accuracy: 0.7127 - val_loss: 0.7233 - val_accuracy: 0.7000\n",
      "Epoch 78/100\n",
      "12/12 [==============================] - 4s 313ms/step - loss: 0.6859 - accuracy: 0.7017 - val_loss: 0.7370 - val_accuracy: 0.7000\n",
      "Epoch 79/100\n",
      "12/12 [==============================] - 4s 360ms/step - loss: 0.6894 - accuracy: 0.6961 - val_loss: 0.7445 - val_accuracy: 0.7000\n",
      "Epoch 80/100\n",
      "12/12 [==============================] - 4s 346ms/step - loss: 0.6979 - accuracy: 0.6740 - val_loss: 0.7396 - val_accuracy: 0.7000\n",
      "Epoch 81/100\n",
      "12/12 [==============================] - 4s 303ms/step - loss: 0.6878 - accuracy: 0.6727 - val_loss: 0.7500 - val_accuracy: 0.7000\n",
      "Epoch 82/100\n",
      "12/12 [==============================] - 4s 308ms/step - loss: 0.6889 - accuracy: 0.7058 - val_loss: 0.7918 - val_accuracy: 0.6778\n",
      "Epoch 83/100\n",
      "12/12 [==============================] - 4s 341ms/step - loss: 0.6866 - accuracy: 0.6920 - val_loss: 0.7897 - val_accuracy: 0.6778\n",
      "Epoch 84/100\n",
      "12/12 [==============================] - 4s 343ms/step - loss: 0.6880 - accuracy: 0.6768 - val_loss: 0.7562 - val_accuracy: 0.6889\n",
      "Epoch 85/100\n",
      "12/12 [==============================] - 4s 342ms/step - loss: 0.6851 - accuracy: 0.7017 - val_loss: 0.7569 - val_accuracy: 0.6889\n",
      "Epoch 86/100\n",
      "12/12 [==============================] - 4s 307ms/step - loss: 0.6858 - accuracy: 0.6892 - val_loss: 0.7912 - val_accuracy: 0.6778\n",
      "Epoch 87/100\n",
      "12/12 [==============================] - 4s 333ms/step - loss: 0.6835 - accuracy: 0.6727 - val_loss: 0.7885 - val_accuracy: 0.6778\n",
      "Epoch 88/100\n",
      "12/12 [==============================] - 4s 311ms/step - loss: 0.6858 - accuracy: 0.6837 - val_loss: 0.7843 - val_accuracy: 0.6778\n",
      "Epoch 89/100\n",
      "12/12 [==============================] - 4s 335ms/step - loss: 0.6935 - accuracy: 0.6713 - val_loss: 0.7510 - val_accuracy: 0.6889\n",
      "Epoch 90/100\n",
      "12/12 [==============================] - 4s 306ms/step - loss: 0.6856 - accuracy: 0.6878 - val_loss: 0.7452 - val_accuracy: 0.7000\n",
      "Epoch 91/100\n",
      "12/12 [==============================] - 4s 329ms/step - loss: 0.6845 - accuracy: 0.6768 - val_loss: 0.7492 - val_accuracy: 0.7000\n",
      "Epoch 92/100\n",
      "12/12 [==============================] - 4s 322ms/step - loss: 0.6840 - accuracy: 0.6754 - val_loss: 0.7505 - val_accuracy: 0.7000\n",
      "Epoch 93/100\n",
      "12/12 [==============================] - 4s 339ms/step - loss: 0.6873 - accuracy: 0.6561 - val_loss: 0.7392 - val_accuracy: 0.7000\n",
      "Epoch 94/100\n",
      "12/12 [==============================] - 4s 322ms/step - loss: 0.6823 - accuracy: 0.6740 - val_loss: 0.7357 - val_accuracy: 0.7000\n",
      "Epoch 95/100\n",
      "12/12 [==============================] - 4s 314ms/step - loss: 0.6866 - accuracy: 0.6630 - val_loss: 0.7437 - val_accuracy: 0.7000\n",
      "Epoch 96/100\n",
      "12/12 [==============================] - 4s 312ms/step - loss: 0.6816 - accuracy: 0.6588 - val_loss: 0.7481 - val_accuracy: 0.7000\n",
      "Epoch 97/100\n",
      "12/12 [==============================] - 4s 298ms/step - loss: 0.6837 - accuracy: 0.6271 - val_loss: 0.7291 - val_accuracy: 0.7000\n",
      "Epoch 98/100\n",
      "12/12 [==============================] - 4s 306ms/step - loss: 0.6837 - accuracy: 0.6395 - val_loss: 0.7195 - val_accuracy: 0.7000\n",
      "Epoch 99/100\n",
      "12/12 [==============================] - 4s 317ms/step - loss: 0.6801 - accuracy: 0.6436 - val_loss: 0.7171 - val_accuracy: 0.7000\n",
      "Epoch 100/100\n",
      "12/12 [==============================] - 4s 323ms/step - loss: 0.6821 - accuracy: 0.6506 - val_loss: 0.7217 - val_accuracy: 0.7000\n"
     ]
    }
   ],
   "source": [
    "params = {\n",
    "   'n_epochs':        training_data.shape[0],\n",
    "   'n_timesteps':     training_data.shape[2],\n",
    "   'n_features':      training_data.shape[1],\n",
    "   'n_output_dim':    1,\n",
    "   'n_hidden_units':  10,\n",
    "   'activation':      'relu',\n",
    "   'batch_size':      64,\n",
    "   'train_epochs':    100,\n",
    "   'unbalanced':      True,\n",
    "   'dropout':         0.3,\n",
    "   'learning_rate':   0.001,\n",
    "\n",
    "}\n",
    "\n",
    "rnn_filename = \"./models/lstm.h5\"\n",
    "\n",
    "clf = LSTM_RNN(params)\n",
    "rnn_history = clf.fit(train_feats, train_labels, tvalid_feats, tvalid_labels)\n",
    "clf.save(rnn_filename)"
   ]
  },
  {
   "cell_type": "code",
   "execution_count": 134,
   "metadata": {
    "colab": {
     "base_uri": "https://localhost:8080/",
     "height": 1000
    },
    "colab_type": "code",
    "id": "CJ7Rg8pdqij3",
    "outputId": "2d688fea-2e6e-47c8-b65f-5f17de6bddfd"
   },
   "outputs": [
    {
     "name": "stdout",
     "output_type": "stream",
     "text": [
      "WARNING:tensorflow:Layer lstm_5 will not use cuDNN kernel since it doesn't meet the cuDNN kernel criteria. It will use generic GPU kernel as fallback when running on GPU\n"
     ]
    },
    {
     "name": "stderr",
     "output_type": "stream",
     "text": [
      "WARNING:tensorflow:Layer lstm_5 will not use cuDNN kernel since it doesn't meet the cuDNN kernel criteria. It will use generic GPU kernel as fallback when running on GPU\n"
     ]
    },
    {
     "name": "stdout",
     "output_type": "stream",
     "text": [
      "Model: \"functional_5\"\n",
      "__________________________________________________________________________________________________\n",
      "Layer (type)                    Output Shape         Param #     Connected to                     \n",
      "==================================================================================================\n",
      "input_6 (InputLayer)            [(None, 256, 4)]     0                                            \n",
      "__________________________________________________________________________________________________\n",
      "reshape_4 (Reshape)             (None, 4, 256)       0           input_6[0][0]                    \n",
      "__________________________________________________________________________________________________\n",
      "tf_op_layer_Cast_4 (TensorFlowO [(None, 4, 256)]     0           reshape_4[0][0]                  \n",
      "__________________________________________________________________________________________________\n",
      "tf_op_layer_FFT_2 (TensorFlowOp [(None, 4, 256)]     0           tf_op_layer_Cast_4[0][0]         \n",
      "__________________________________________________________________________________________________\n",
      "tf_op_layer_Cast_5 (TensorFlowO [(None, 4, 256)]     0           tf_op_layer_FFT_2[0][0]          \n",
      "__________________________________________________________________________________________________\n",
      "sequential_7 (Sequential)       (None, 10)           21734       tf_op_layer_Cast_5[0][0]         \n",
      "__________________________________________________________________________________________________\n",
      "sequential_8 (Sequential)       (None, 10)           930         input_6[0][0]                    \n",
      "__________________________________________________________________________________________________\n",
      "concatenate_2 (Concatenate)     (None, 20)           0           sequential_7[0][0]               \n",
      "                                                                 sequential_8[0][0]               \n",
      "__________________________________________________________________________________________________\n",
      "dense_17 (Dense)                (None, 1)            21          concatenate_2[0][0]              \n",
      "==================================================================================================\n",
      "Total params: 22,685\n",
      "Trainable params: 22,153\n",
      "Non-trainable params: 532\n",
      "__________________________________________________________________________________________________\n",
      "None\n",
      "Using class_weights of  {0: 0.7168316831683168, 1: 1.6529680365296804}\n",
      "Epoch 1/100\n",
      "12/12 [==============================] - 5s 387ms/step - loss: 1.3063 - accuracy: 0.5884 - val_loss: 1.2028 - val_accuracy: 0.7000\n",
      "Epoch 2/100\n",
      "12/12 [==============================] - 4s 331ms/step - loss: 1.2545 - accuracy: 0.5345 - val_loss: 1.1452 - val_accuracy: 0.6889\n",
      "Epoch 3/100\n",
      "12/12 [==============================] - 4s 338ms/step - loss: 1.2278 - accuracy: 0.5290 - val_loss: 1.1210 - val_accuracy: 0.7111\n",
      "Epoch 4/100\n",
      "12/12 [==============================] - 4s 340ms/step - loss: 1.1686 - accuracy: 0.5525 - val_loss: 1.1100 - val_accuracy: 0.6889\n",
      "Epoch 5/100\n",
      "12/12 [==============================] - 4s 319ms/step - loss: 1.1342 - accuracy: 0.5953 - val_loss: 1.0920 - val_accuracy: 0.6444\n",
      "Epoch 6/100\n",
      "12/12 [==============================] - 4s 310ms/step - loss: 1.1023 - accuracy: 0.5856 - val_loss: 1.0766 - val_accuracy: 0.6444\n",
      "Epoch 7/100\n",
      "12/12 [==============================] - 4s 301ms/step - loss: 1.0664 - accuracy: 0.6160 - val_loss: 1.0549 - val_accuracy: 0.6333\n",
      "Epoch 8/100\n",
      "12/12 [==============================] - 4s 317ms/step - loss: 1.0359 - accuracy: 0.6215 - val_loss: 1.0460 - val_accuracy: 0.5667\n",
      "Epoch 9/100\n",
      "12/12 [==============================] - 4s 328ms/step - loss: 1.0304 - accuracy: 0.5746 - val_loss: 1.0394 - val_accuracy: 0.5333\n",
      "Epoch 10/100\n",
      "12/12 [==============================] - 4s 313ms/step - loss: 0.9918 - accuracy: 0.6202 - val_loss: 1.0266 - val_accuracy: 0.4333\n",
      "Epoch 11/100\n",
      "12/12 [==============================] - 4s 302ms/step - loss: 0.9803 - accuracy: 0.6050 - val_loss: 1.0128 - val_accuracy: 0.4222\n",
      "Epoch 12/100\n",
      "12/12 [==============================] - 4s 331ms/step - loss: 0.9654 - accuracy: 0.5801 - val_loss: 0.9939 - val_accuracy: 0.4000\n",
      "Epoch 13/100\n",
      "12/12 [==============================] - 4s 307ms/step - loss: 0.9455 - accuracy: 0.6202 - val_loss: 0.9782 - val_accuracy: 0.4333\n",
      "Epoch 14/100\n",
      "12/12 [==============================] - 4s 320ms/step - loss: 0.9127 - accuracy: 0.6354 - val_loss: 0.9631 - val_accuracy: 0.4667\n",
      "Epoch 15/100\n",
      "12/12 [==============================] - 4s 349ms/step - loss: 0.9034 - accuracy: 0.6519 - val_loss: 0.9440 - val_accuracy: 0.5000\n",
      "Epoch 16/100\n",
      "12/12 [==============================] - 4s 308ms/step - loss: 0.8901 - accuracy: 0.6533 - val_loss: 0.9310 - val_accuracy: 0.5444\n",
      "Epoch 17/100\n",
      "12/12 [==============================] - 4s 329ms/step - loss: 0.8693 - accuracy: 0.6671 - val_loss: 0.9179 - val_accuracy: 0.5444\n",
      "Epoch 18/100\n",
      "12/12 [==============================] - 4s 326ms/step - loss: 0.8580 - accuracy: 0.6906 - val_loss: 0.9160 - val_accuracy: 0.5111\n",
      "Epoch 19/100\n",
      "12/12 [==============================] - 4s 308ms/step - loss: 0.8404 - accuracy: 0.6961 - val_loss: 0.9085 - val_accuracy: 0.5222\n",
      "Epoch 20/100\n",
      "12/12 [==============================] - 4s 305ms/step - loss: 0.8268 - accuracy: 0.6989 - val_loss: 0.8970 - val_accuracy: 0.5444\n",
      "Epoch 21/100\n",
      "12/12 [==============================] - 4s 317ms/step - loss: 0.8105 - accuracy: 0.7058 - val_loss: 0.8889 - val_accuracy: 0.5111\n",
      "Epoch 22/100\n",
      "12/12 [==============================] - 4s 358ms/step - loss: 0.8021 - accuracy: 0.7224 - val_loss: 0.8759 - val_accuracy: 0.5333\n",
      "Epoch 23/100\n",
      "12/12 [==============================] - 4s 305ms/step - loss: 0.7923 - accuracy: 0.7030 - val_loss: 0.8738 - val_accuracy: 0.5444\n",
      "Epoch 24/100\n",
      "12/12 [==============================] - 4s 343ms/step - loss: 0.7804 - accuracy: 0.7210 - val_loss: 0.8677 - val_accuracy: 0.5778\n",
      "Epoch 25/100\n",
      "12/12 [==============================] - 4s 353ms/step - loss: 0.7560 - accuracy: 0.7169 - val_loss: 0.8496 - val_accuracy: 0.5889\n",
      "Epoch 26/100\n",
      "12/12 [==============================] - 4s 364ms/step - loss: 0.7659 - accuracy: 0.7445 - val_loss: 0.8480 - val_accuracy: 0.6000\n",
      "Epoch 27/100\n",
      "12/12 [==============================] - 4s 334ms/step - loss: 0.7312 - accuracy: 0.7818 - val_loss: 0.8364 - val_accuracy: 0.6111\n",
      "Epoch 28/100\n",
      "12/12 [==============================] - 4s 311ms/step - loss: 0.7348 - accuracy: 0.7514 - val_loss: 0.8273 - val_accuracy: 0.6111\n",
      "Epoch 29/100\n",
      "12/12 [==============================] - 4s 304ms/step - loss: 0.7092 - accuracy: 0.7790 - val_loss: 0.8249 - val_accuracy: 0.6333\n",
      "Epoch 30/100\n",
      "12/12 [==============================] - 4s 331ms/step - loss: 0.7170 - accuracy: 0.7666 - val_loss: 0.8261 - val_accuracy: 0.6000\n",
      "Epoch 31/100\n",
      "12/12 [==============================] - 4s 328ms/step - loss: 0.6950 - accuracy: 0.7693 - val_loss: 0.8204 - val_accuracy: 0.5889\n",
      "Epoch 32/100\n",
      "12/12 [==============================] - 4s 331ms/step - loss: 0.6915 - accuracy: 0.7721 - val_loss: 0.8066 - val_accuracy: 0.6111\n",
      "Epoch 33/100\n",
      "12/12 [==============================] - 4s 336ms/step - loss: 0.7072 - accuracy: 0.7776 - val_loss: 0.8186 - val_accuracy: 0.6000\n",
      "Epoch 34/100\n",
      "12/12 [==============================] - 4s 336ms/step - loss: 0.6855 - accuracy: 0.7638 - val_loss: 0.8376 - val_accuracy: 0.5778\n",
      "Epoch 35/100\n",
      "12/12 [==============================] - 4s 334ms/step - loss: 0.7109 - accuracy: 0.7348 - val_loss: 0.8307 - val_accuracy: 0.6000\n",
      "Epoch 36/100\n",
      "12/12 [==============================] - 4s 304ms/step - loss: 0.6779 - accuracy: 0.7735 - val_loss: 0.8342 - val_accuracy: 0.5889\n",
      "Epoch 37/100\n",
      "12/12 [==============================] - 4s 300ms/step - loss: 0.6726 - accuracy: 0.7887 - val_loss: 0.8244 - val_accuracy: 0.6111\n",
      "Epoch 38/100\n",
      "12/12 [==============================] - 4s 361ms/step - loss: 0.6797 - accuracy: 0.7845 - val_loss: 0.8098 - val_accuracy: 0.6222\n",
      "Epoch 39/100\n",
      "12/12 [==============================] - 4s 332ms/step - loss: 0.6665 - accuracy: 0.7762 - val_loss: 0.8238 - val_accuracy: 0.6000\n",
      "Epoch 40/100\n",
      "12/12 [==============================] - 4s 342ms/step - loss: 0.6481 - accuracy: 0.7873 - val_loss: 0.8137 - val_accuracy: 0.6222\n",
      "Epoch 41/100\n",
      "12/12 [==============================] - 4s 338ms/step - loss: 0.6461 - accuracy: 0.7997 - val_loss: 0.7939 - val_accuracy: 0.6444\n",
      "Epoch 42/100\n",
      "12/12 [==============================] - 4s 319ms/step - loss: 0.6450 - accuracy: 0.8094 - val_loss: 0.7905 - val_accuracy: 0.6222\n",
      "Epoch 43/100\n",
      "12/12 [==============================] - 4s 328ms/step - loss: 0.6428 - accuracy: 0.7942 - val_loss: 0.7997 - val_accuracy: 0.6111\n",
      "Epoch 44/100\n",
      "12/12 [==============================] - 4s 368ms/step - loss: 0.6430 - accuracy: 0.8094 - val_loss: 0.8109 - val_accuracy: 0.6222\n",
      "Epoch 45/100\n",
      "12/12 [==============================] - 4s 305ms/step - loss: 0.6216 - accuracy: 0.8177 - val_loss: 0.8225 - val_accuracy: 0.6222\n",
      "Epoch 46/100\n",
      "12/12 [==============================] - 4s 331ms/step - loss: 0.6572 - accuracy: 0.7983 - val_loss: 0.7825 - val_accuracy: 0.6667\n",
      "Epoch 47/100\n",
      "12/12 [==============================] - 4s 316ms/step - loss: 0.6339 - accuracy: 0.8218 - val_loss: 0.8048 - val_accuracy: 0.6111\n",
      "Epoch 48/100\n",
      "12/12 [==============================] - 4s 348ms/step - loss: 0.6275 - accuracy: 0.8039 - val_loss: 0.7847 - val_accuracy: 0.6556\n",
      "Epoch 49/100\n",
      "12/12 [==============================] - 4s 370ms/step - loss: 0.6109 - accuracy: 0.8273 - val_loss: 0.7788 - val_accuracy: 0.6889\n",
      "Epoch 50/100\n",
      "12/12 [==============================] - 4s 337ms/step - loss: 0.6270 - accuracy: 0.8108 - val_loss: 0.7988 - val_accuracy: 0.6444\n",
      "Epoch 51/100\n",
      "12/12 [==============================] - 4s 334ms/step - loss: 0.6121 - accuracy: 0.8218 - val_loss: 0.8156 - val_accuracy: 0.6444\n",
      "Epoch 52/100\n",
      "12/12 [==============================] - 4s 340ms/step - loss: 0.6168 - accuracy: 0.8204 - val_loss: 0.8148 - val_accuracy: 0.6667\n",
      "Epoch 53/100\n",
      "12/12 [==============================] - 4s 330ms/step - loss: 0.6021 - accuracy: 0.8232 - val_loss: 0.8141 - val_accuracy: 0.6778\n",
      "Epoch 54/100\n",
      "12/12 [==============================] - 4s 326ms/step - loss: 0.6053 - accuracy: 0.8232 - val_loss: 0.7915 - val_accuracy: 0.6889\n",
      "Epoch 55/100\n",
      "12/12 [==============================] - 4s 317ms/step - loss: 0.5834 - accuracy: 0.8412 - val_loss: 0.7926 - val_accuracy: 0.7111\n",
      "Epoch 56/100\n",
      "12/12 [==============================] - 4s 357ms/step - loss: 0.5947 - accuracy: 0.8273 - val_loss: 0.8086 - val_accuracy: 0.7111\n",
      "Epoch 57/100\n",
      "12/12 [==============================] - 4s 330ms/step - loss: 0.6038 - accuracy: 0.8315 - val_loss: 0.7984 - val_accuracy: 0.7000\n",
      "Epoch 58/100\n",
      "12/12 [==============================] - 4s 325ms/step - loss: 0.6227 - accuracy: 0.8066 - val_loss: 0.8082 - val_accuracy: 0.7111\n",
      "Epoch 59/100\n",
      "12/12 [==============================] - 4s 318ms/step - loss: 0.5846 - accuracy: 0.8356 - val_loss: 0.7926 - val_accuracy: 0.7222\n",
      "Epoch 60/100\n",
      "12/12 [==============================] - 4s 360ms/step - loss: 0.5999 - accuracy: 0.8163 - val_loss: 0.8188 - val_accuracy: 0.7222\n",
      "Epoch 61/100\n",
      "12/12 [==============================] - 4s 321ms/step - loss: 0.5946 - accuracy: 0.8287 - val_loss: 0.8343 - val_accuracy: 0.7111\n",
      "Epoch 62/100\n",
      "12/12 [==============================] - 5s 394ms/step - loss: 0.6143 - accuracy: 0.8246 - val_loss: 0.8431 - val_accuracy: 0.7000\n",
      "Epoch 63/100\n",
      "12/12 [==============================] - 4s 319ms/step - loss: 0.6102 - accuracy: 0.8260 - val_loss: 0.8357 - val_accuracy: 0.7111\n",
      "Epoch 64/100\n",
      "12/12 [==============================] - 4s 300ms/step - loss: 0.6206 - accuracy: 0.8329 - val_loss: 0.8042 - val_accuracy: 0.7333\n",
      "Epoch 65/100\n",
      "12/12 [==============================] - 4s 332ms/step - loss: 0.6155 - accuracy: 0.8232 - val_loss: 0.8005 - val_accuracy: 0.7000\n",
      "Epoch 66/100\n",
      "12/12 [==============================] - 4s 302ms/step - loss: 0.6093 - accuracy: 0.8191 - val_loss: 0.8070 - val_accuracy: 0.7000\n",
      "Epoch 67/100\n",
      "12/12 [==============================] - 4s 297ms/step - loss: 0.5910 - accuracy: 0.8398 - val_loss: 0.8137 - val_accuracy: 0.7000\n",
      "Epoch 68/100\n",
      "12/12 [==============================] - 4s 317ms/step - loss: 0.5960 - accuracy: 0.8246 - val_loss: 0.8564 - val_accuracy: 0.6889\n",
      "Epoch 69/100\n",
      "12/12 [==============================] - 4s 330ms/step - loss: 0.6122 - accuracy: 0.8384 - val_loss: 0.8861 - val_accuracy: 0.7000\n",
      "Epoch 70/100\n",
      "12/12 [==============================] - 4s 342ms/step - loss: 0.5821 - accuracy: 0.8481 - val_loss: 0.8698 - val_accuracy: 0.7000\n",
      "Epoch 71/100\n",
      "12/12 [==============================] - 4s 308ms/step - loss: 0.5936 - accuracy: 0.8384 - val_loss: 0.8442 - val_accuracy: 0.7222\n",
      "Epoch 72/100\n",
      "12/12 [==============================] - 4s 323ms/step - loss: 0.5964 - accuracy: 0.8370 - val_loss: 0.8544 - val_accuracy: 0.6889\n",
      "Epoch 73/100\n",
      "12/12 [==============================] - 4s 334ms/step - loss: 0.5875 - accuracy: 0.8398 - val_loss: 0.8385 - val_accuracy: 0.7222\n",
      "Epoch 74/100\n",
      "12/12 [==============================] - 4s 331ms/step - loss: 0.5943 - accuracy: 0.8550 - val_loss: 0.8683 - val_accuracy: 0.7222\n",
      "Epoch 75/100\n",
      "12/12 [==============================] - 4s 314ms/step - loss: 0.5698 - accuracy: 0.8633 - val_loss: 0.8793 - val_accuracy: 0.7111\n",
      "Epoch 76/100\n",
      "12/12 [==============================] - 4s 318ms/step - loss: 0.6001 - accuracy: 0.8384 - val_loss: 0.8610 - val_accuracy: 0.7111\n",
      "Epoch 77/100\n",
      "12/12 [==============================] - 4s 325ms/step - loss: 0.6028 - accuracy: 0.8384 - val_loss: 0.8343 - val_accuracy: 0.7333\n",
      "Epoch 78/100\n",
      "12/12 [==============================] - 4s 325ms/step - loss: 0.5951 - accuracy: 0.8508 - val_loss: 0.8379 - val_accuracy: 0.7333\n",
      "Epoch 79/100\n",
      "12/12 [==============================] - 4s 336ms/step - loss: 0.5844 - accuracy: 0.8494 - val_loss: 0.8563 - val_accuracy: 0.7111\n",
      "Epoch 80/100\n",
      "12/12 [==============================] - 4s 308ms/step - loss: 0.5927 - accuracy: 0.8508 - val_loss: 0.8951 - val_accuracy: 0.6667\n",
      "Epoch 81/100\n",
      "12/12 [==============================] - 4s 323ms/step - loss: 0.5913 - accuracy: 0.8439 - val_loss: 0.8688 - val_accuracy: 0.7333\n",
      "Epoch 82/100\n",
      "12/12 [==============================] - 4s 312ms/step - loss: 0.5881 - accuracy: 0.8453 - val_loss: 0.8493 - val_accuracy: 0.7222\n",
      "Epoch 83/100\n",
      "12/12 [==============================] - 4s 339ms/step - loss: 0.5746 - accuracy: 0.8356 - val_loss: 0.8671 - val_accuracy: 0.6778\n",
      "Epoch 84/100\n",
      "12/12 [==============================] - 4s 310ms/step - loss: 0.5985 - accuracy: 0.8494 - val_loss: 0.8689 - val_accuracy: 0.7333\n",
      "Epoch 85/100\n",
      "12/12 [==============================] - 4s 312ms/step - loss: 0.6010 - accuracy: 0.8564 - val_loss: 0.8798 - val_accuracy: 0.7222\n",
      "Epoch 86/100\n",
      "12/12 [==============================] - 4s 317ms/step - loss: 0.5880 - accuracy: 0.8315 - val_loss: 0.8929 - val_accuracy: 0.7111\n",
      "Epoch 87/100\n",
      "12/12 [==============================] - 4s 324ms/step - loss: 0.5645 - accuracy: 0.8564 - val_loss: 0.8927 - val_accuracy: 0.7222\n",
      "Epoch 88/100\n",
      "12/12 [==============================] - 4s 330ms/step - loss: 0.6069 - accuracy: 0.8260 - val_loss: 0.8724 - val_accuracy: 0.7222\n",
      "Epoch 89/100\n",
      "12/12 [==============================] - 4s 320ms/step - loss: 0.5485 - accuracy: 0.8854 - val_loss: 0.8747 - val_accuracy: 0.7333\n",
      "Epoch 90/100\n",
      "12/12 [==============================] - 4s 327ms/step - loss: 0.5972 - accuracy: 0.8398 - val_loss: 0.9023 - val_accuracy: 0.7000\n",
      "Epoch 91/100\n",
      "12/12 [==============================] - 4s 349ms/step - loss: 0.5943 - accuracy: 0.8370 - val_loss: 0.8613 - val_accuracy: 0.7222\n",
      "Epoch 92/100\n",
      "12/12 [==============================] - 4s 326ms/step - loss: 0.5531 - accuracy: 0.8812 - val_loss: 0.8299 - val_accuracy: 0.7111\n",
      "Epoch 93/100\n",
      "12/12 [==============================] - 4s 304ms/step - loss: 0.5901 - accuracy: 0.8646 - val_loss: 0.8150 - val_accuracy: 0.7333\n",
      "Epoch 94/100\n",
      "12/12 [==============================] - 4s 319ms/step - loss: 0.5539 - accuracy: 0.8550 - val_loss: 0.8289 - val_accuracy: 0.7444\n",
      "Epoch 95/100\n",
      "12/12 [==============================] - 4s 302ms/step - loss: 0.5724 - accuracy: 0.8370 - val_loss: 0.8579 - val_accuracy: 0.7444\n",
      "Epoch 96/100\n",
      "12/12 [==============================] - 4s 305ms/step - loss: 0.5348 - accuracy: 0.8743 - val_loss: 0.8816 - val_accuracy: 0.7222\n",
      "Epoch 97/100\n",
      "12/12 [==============================] - 4s 371ms/step - loss: 0.5732 - accuracy: 0.8591 - val_loss: 0.9107 - val_accuracy: 0.7556\n",
      "Epoch 98/100\n",
      "12/12 [==============================] - 4s 344ms/step - loss: 0.5877 - accuracy: 0.8550 - val_loss: 0.8854 - val_accuracy: 0.7556\n",
      "Epoch 99/100\n",
      "12/12 [==============================] - 4s 316ms/step - loss: 0.5761 - accuracy: 0.8508 - val_loss: 0.8696 - val_accuracy: 0.7333\n",
      "Epoch 100/100\n",
      "12/12 [==============================] - 4s 314ms/step - loss: 0.5802 - accuracy: 0.8453 - val_loss: 0.8620 - val_accuracy: 0.7222\n"
     ]
    }
   ],
   "source": [
    "params = {\n",
    "   'n_epochs':        training_data.shape[0],\n",
    "   'n_timesteps':     training_data.shape[2],\n",
    "   'n_features':      training_data.shape[1],\n",
    "   'n_output_dim':    1,\n",
    "   'n_hidden_units':  10,\n",
    "   'activation':      'relu',\n",
    "   'batch_size':      64,\n",
    "   'train_epochs':    100,\n",
    "   'unbalanced':      True,\n",
    "   'dropout':         0.5,\n",
    "   'learning_rate':   0.001,\n",
    "\n",
    "}\n",
    "\n",
    "fft_filename = \"./models/lstm_fft.h5\"\n",
    "\n",
    "clf = LSTM_RNN_fft(params)\n",
    "fft_history = clf.fit(train_feats, train_labels, tvalid_feats, tvalid_labels)\n",
    "clf.save(fft_filename)"
   ]
  },
  {
   "cell_type": "markdown",
   "metadata": {
    "colab_type": "text",
    "id": "NgvnPy4e9RPO"
   },
   "source": [
    "We plot the losses and accuracies during the training epochs for both models."
   ]
  },
  {
   "cell_type": "code",
   "execution_count": 135,
   "metadata": {
    "colab": {
     "base_uri": "https://localhost:8080/",
     "height": 314
    },
    "colab_type": "code",
    "id": "UFkQ4adG9SSo",
    "outputId": "8f2beb4f-476c-4895-ba6d-f94638bcc4eb"
   },
   "outputs": [
    {
     "data": {
      "text/plain": [
       "Text(0, 0.5, 'Accuracy')"
      ]
     },
     "execution_count": 135,
     "metadata": {
      "tags": []
     },
     "output_type": "execute_result"
    },
    {
     "data": {
      "image/png": "[encoded data removed]",
      "text/plain": [
       "<Figure size 432x288 with 1 Axes>"
      ]
     },
     "metadata": {
      "needs_background": "light",
      "tags": []
     },
     "output_type": "display_data"
    }
   ],
   "source": [
    "axis = plt.plot(rnn_history.history['accuracy'])\n",
    "plt.plot(rnn_history.history['val_accuracy'])\n",
    "\n",
    "plt.title(\"Accuracy\")\n",
    "plt.legend([\"Train\", \"Validation\"])\n",
    "plt.xlabel(\"Epoch\")\n",
    "plt.ylabel(\"Accuracy\")"
   ]
  },
  {
   "cell_type": "code",
   "execution_count": 136,
   "metadata": {
    "colab": {
     "base_uri": "https://localhost:8080/",
     "height": 314
    },
    "colab_type": "code",
    "id": "0iAyla0tVPqN",
    "outputId": "4c99899d-567c-4196-803c-c16a7577cf8b"
   },
   "outputs": [
    {
     "data": {
      "text/plain": [
       "Text(0, 0.5, 'Accuracy')"
      ]
     },
     "execution_count": 136,
     "metadata": {
      "tags": []
     },
     "output_type": "execute_result"
    },
    {
     "data": {
      "image/png": "[encoded data removed]",
      "text/plain": [
       "<Figure size 432x288 with 1 Axes>"
      ]
     },
     "metadata": {
      "needs_background": "light",
      "tags": []
     },
     "output_type": "display_data"
    }
   ],
   "source": [
    "axis = plt.plot(fft_history.history['accuracy'])\n",
    "plt.plot(fft_history.history['val_accuracy'])\n",
    "\n",
    "plt.title(\"Accuracy\")\n",
    "plt.legend([\"Train\", \"Validation\"])\n",
    "plt.xlabel(\"Epoch\")\n",
    "plt.ylabel(\"Accuracy\")"
   ]
  },
  {
   "cell_type": "code",
   "execution_count": 137,
   "metadata": {
    "colab": {
     "base_uri": "https://localhost:8080/",
     "height": 314
    },
    "colab_type": "code",
    "id": "uvT0AqUWDolw",
    "outputId": "f4bbd5f4-8812-428c-96df-0745c65ecec4"
   },
   "outputs": [
    {
     "data": {
      "text/plain": [
       "(0.6, 1.0)"
      ]
     },
     "execution_count": 137,
     "metadata": {
      "tags": []
     },
     "output_type": "execute_result"
    },
    {
     "data": {
      "image/png": "[encoded data removed]",
      "text/plain": [
       "<Figure size 432x288 with 1 Axes>"
      ]
     },
     "metadata": {
      "needs_background": "light",
      "tags": []
     },
     "output_type": "display_data"
    }
   ],
   "source": [
    "axis = plt.plot(rnn_history.history['loss'])\n",
    "plt.plot(rnn_history.history['val_loss'])\n",
    "\n",
    "plt.title(\"Loss\")\n",
    "plt.legend([\"Train\", \"Validation\"])\n",
    "plt.xlabel(\"Epoch\")\n",
    "plt.ylabel(\"Loss\")\n",
    "plt.ylim([0.6, 1.0])"
   ]
  },
  {
   "cell_type": "code",
   "execution_count": 138,
   "metadata": {
    "colab": {
     "base_uri": "https://localhost:8080/",
     "height": 314
    },
    "colab_type": "code",
    "id": "WtgwyvAIVUnr",
    "outputId": "9899c0ee-22ae-44ba-d31d-cc07bd9d6a96"
   },
   "outputs": [
    {
     "data": {
      "text/plain": [
       "(0.0, 2.0)"
      ]
     },
     "execution_count": 138,
     "metadata": {
      "tags": []
     },
     "output_type": "execute_result"
    },
    {
     "data": {
      "image/png": "[encoded data removed]",
      "text/plain": [
       "<Figure size 432x288 with 1 Axes>"
      ]
     },
     "metadata": {
      "needs_background": "light",
      "tags": []
     },
     "output_type": "display_data"
    }
   ],
   "source": [
    "axis = plt.plot(fft_history.history['loss'])\n",
    "plt.plot(fft_history.history['val_loss'])\n",
    "\n",
    "plt.title(\"Loss\")\n",
    "plt.legend([\"Train\", \"Validation\"])\n",
    "plt.xlabel(\"Epoch\")\n",
    "plt.ylabel(\"Loss\")\n",
    "plt.ylim([0, 2])"
   ]
  },
  {
   "cell_type": "markdown",
   "metadata": {
    "colab_type": "text",
    "id": "C2OKku0y9Uan"
   },
   "source": [
    "We now run the test set (derived from the training set) to evaluate the expected accuracy."
   ]
  },
  {
   "cell_type": "code",
   "execution_count": 139,
   "metadata": {
    "colab": {
     "base_uri": "https://localhost:8080/",
     "height": 374
    },
    "colab_type": "code",
    "id": "_7j_XKVw9byC",
    "outputId": "c28cfd2d-4b6d-437a-c827-46a0cf2f252e"
   },
   "outputs": [
    {
     "name": "stdout",
     "output_type": "stream",
     "text": [
      "WARNING:tensorflow:Layer lstm_4 will not use cuDNN kernel since it doesn't meet the cuDNN kernel criteria. It will use generic GPU kernel as fallback when running on GPU\n"
     ]
    },
    {
     "name": "stderr",
     "output_type": "stream",
     "text": [
      "WARNING:tensorflow:Layer lstm_4 will not use cuDNN kernel since it doesn't meet the cuDNN kernel criteria. It will use generic GPU kernel as fallback when running on GPU\n"
     ]
    },
    {
     "data": {
      "application/vnd.google.colaboratory.intrinsic+json": {
       "type": "string"
      },
      "text/plain": [
       "'The test accuracy is'"
      ]
     },
     "metadata": {
      "tags": []
     },
     "output_type": "display_data"
    },
    {
     "data": {
      "text/plain": [
       "0.6888888888888889"
      ]
     },
     "metadata": {
      "tags": []
     },
     "output_type": "display_data"
    },
    {
     "data": {
      "text/plain": [
       "array([0, 0, 1, 0, 0, 0, 0, 0, 0, 0, 0, 0, 0, 0, 0, 0, 0, 0, 0, 0, 0, 0,\n",
       "       0, 0, 0, 0, 0, 1, 0, 0, 0, 0, 0, 0, 0, 0, 0, 0, 0, 0, 0, 0, 0, 0,\n",
       "       1, 0, 1, 0, 0, 0, 0, 0, 0, 0, 0, 0, 0, 0, 0, 0, 0, 0, 0, 0, 0, 0,\n",
       "       0, 0, 0, 0, 0, 0, 0, 0, 0, 0, 0, 0, 0, 0, 0, 1, 0, 0, 0, 0, 0, 0,\n",
       "       0, 0])"
      ]
     },
     "metadata": {
      "tags": []
     },
     "output_type": "display_data"
    },
    {
     "name": "stdout",
     "output_type": "stream",
     "text": [
      "WARNING:tensorflow:Layer lstm_5 will not use cuDNN kernel since it doesn't meet the cuDNN kernel criteria. It will use generic GPU kernel as fallback when running on GPU\n"
     ]
    },
    {
     "name": "stderr",
     "output_type": "stream",
     "text": [
      "WARNING:tensorflow:Layer lstm_5 will not use cuDNN kernel since it doesn't meet the cuDNN kernel criteria. It will use generic GPU kernel as fallback when running on GPU\n"
     ]
    },
    {
     "data": {
      "application/vnd.google.colaboratory.intrinsic+json": {
       "type": "string"
      },
      "text/plain": [
       "'The test accuracy is'"
      ]
     },
     "metadata": {
      "tags": []
     },
     "output_type": "display_data"
    },
    {
     "data": {
      "text/plain": [
       "0.7222222222222222"
      ]
     },
     "metadata": {
      "tags": []
     },
     "output_type": "display_data"
    },
    {
     "data": {
      "text/plain": [
       "array([0, 1, 1, 0, 0, 0, 0, 0, 0, 1, 0, 0, 0, 0, 0, 0, 0, 0, 0, 0, 0, 0,\n",
       "       0, 0, 0, 0, 0, 0, 0, 0, 0, 0, 0, 0, 0, 0, 0, 1, 0, 0, 0, 0, 1, 0,\n",
       "       0, 1, 0, 0, 0, 0, 0, 0, 0, 0, 1, 0, 0, 0, 0, 0, 1, 0, 0, 0, 0, 0,\n",
       "       0, 0, 0, 1, 0, 0, 0, 0, 0, 0, 0, 0, 0, 0, 0, 1, 0, 0, 0, 0, 0, 0,\n",
       "       0, 0])"
      ]
     },
     "metadata": {
      "tags": []
     },
     "output_type": "display_data"
    }
   ],
   "source": [
    "for filename in [rnn_filename, fft_filename]:\n",
    "  clf = load_model(filename)\n",
    "  ttest_predict = clf.predict(ttest_feats)\n",
    "\n",
    "  ttest_predict = np.array([1 if label >= 0.5 else 0 for label in ttest_predict])\n",
    "  ttest_acc = accuracy_score(ttest_labels, ttest_predict)\n",
    "\n",
    "  display(\"The test accuracy is\", ttest_acc)\n",
    "  display(ttest_predict)"
   ]
  },
  {
   "cell_type": "markdown",
   "metadata": {
    "colab_type": "text",
    "id": "h98KOk119dZE"
   },
   "source": [
    "### Predict Test Set using Deep Learning \n",
    "We run our deep learning model on the unlabeled test set.\n",
    "\n"
   ]
  },
  {
   "cell_type": "code",
   "execution_count": 140,
   "metadata": {
    "colab": {},
    "colab_type": "code",
    "id": "nNiKoWSMrZvk"
   },
   "outputs": [],
   "source": [
    "def run_rnn_prediction(clf_file, data):\n",
    "    clf = load_model(clf_file)\n",
    "    \n",
    "    # automatically return NaN for epochs with NaN \n",
    "    nan_indices = set(np.argwhere(np.isnan(data))[:, 0])    \n",
    "    \n",
    "    n_epochs = data.shape[0]\n",
    "    predict_labels = []\n",
    "\n",
    "    if nan_indices:\n",
    "        valid_epochs = [x for x in range(0, n_epochs) if x not in nan_indices]\n",
    "        for epoch in range(0, n_epochs):\n",
    "            if epoch in valid_epochs:\n",
    "                prediction = clf.predict(np.array([data[epoch, :, :]]))\n",
    "                predict_labels.append(prediction[0][0])\n",
    "            else:\n",
    "                print(\"Epoch \", epoch, \" contains NaN and cannot be predicted for.\")\n",
    "                predict_labels.append(np.nan)\n",
    "    else:\n",
    "        predict_labels = clf.predict(data)\n",
    "    return predict_labels"
   ]
  },
  {
   "cell_type": "code",
   "execution_count": 141,
   "metadata": {
    "colab": {
     "base_uri": "https://localhost:8080/",
     "height": 93
    },
    "colab_type": "code",
    "id": "MEghsEMA2ppF",
    "outputId": "fb82ed60-0226-47c3-d813-3f3573b4945e"
   },
   "outputs": [
    {
     "name": "stdout",
     "output_type": "stream",
     "text": [
      "WARNING:tensorflow:Layer lstm_4 will not use cuDNN kernel since it doesn't meet the cuDNN kernel criteria. It will use generic GPU kernel as fallback when running on GPU\n"
     ]
    },
    {
     "name": "stderr",
     "output_type": "stream",
     "text": [
      "WARNING:tensorflow:Layer lstm_4 will not use cuDNN kernel since it doesn't meet the cuDNN kernel criteria. It will use generic GPU kernel as fallback when running on GPU\n"
     ]
    },
    {
     "name": "stdout",
     "output_type": "stream",
     "text": [
      "Epoch  169  contains NaN and cannot be predicted for.\n"
     ]
    }
   ],
   "source": [
    "rnn_test_predict = run_rnn_prediction(rnn_filename, rnn_test_data)\n",
    "np.save('q1_rnn_test_outputs.npy', rnn_test_predict)\n",
    "\n",
    "rnn_test_predict = np.array([1 if label >= 0.5 else 0 for label in rnn_test_predict])\n",
    "np.save('q1_rnn_test_labels.npy', rnn_test_predict)"
   ]
  },
  {
   "cell_type": "code",
   "execution_count": 142,
   "metadata": {
    "colab": {
     "base_uri": "https://localhost:8080/",
     "height": 93
    },
    "colab_type": "code",
    "id": "MtGgaQnaz3OP",
    "outputId": "772f7d45-6d81-494a-f807-9e6701d1013c"
   },
   "outputs": [
    {
     "name": "stdout",
     "output_type": "stream",
     "text": [
      "WARNING:tensorflow:Layer lstm_5 will not use cuDNN kernel since it doesn't meet the cuDNN kernel criteria. It will use generic GPU kernel as fallback when running on GPU\n"
     ]
    },
    {
     "name": "stderr",
     "output_type": "stream",
     "text": [
      "WARNING:tensorflow:Layer lstm_5 will not use cuDNN kernel since it doesn't meet the cuDNN kernel criteria. It will use generic GPU kernel as fallback when running on GPU\n"
     ]
    },
    {
     "name": "stdout",
     "output_type": "stream",
     "text": [
      "Epoch  169  contains NaN and cannot be predicted for.\n"
     ]
    }
   ],
   "source": [
    "fft_test_predict = run_rnn_prediction(fft_filename, rnn_test_data)\n",
    "np.save('q1_fft_test_outputs.npy', fft_test_predict)\n",
    "\n",
    "fft_test_predict = np.array([1 if label >= 0.5 else 0 for label in fft_test_predict])\n",
    "np.save('q1_fft_test_labels.npy', fft_test_predict)"
   ]
  },
  {
   "cell_type": "markdown",
   "metadata": {
    "colab_type": "text",
    "id": "B0Hn0U5H-H1i"
   },
   "source": [
    "## Deploying to Mobile using TFLite"
   ]
  },
  {
   "cell_type": "code",
   "execution_count": 143,
   "metadata": {
    "colab": {},
    "colab_type": "code",
    "id": "vISRyc2m-JOg"
   },
   "outputs": [],
   "source": [
    "import tensorflow as tf"
   ]
  },
  {
   "cell_type": "markdown",
   "metadata": {
    "colab_type": "text",
    "id": "OXFVf1vhNT7D"
   },
   "source": [
    "We load the trained model and convert it into a `.tflite` model.  We load the model into the Python interpreter for inference."
   ]
  },
  {
   "cell_type": "code",
   "execution_count": 146,
   "metadata": {
    "colab": {
     "base_uri": "https://localhost:8080/",
     "height": 149
    },
    "colab_type": "code",
    "id": "t8VSBcD9_4hU",
    "outputId": "92c1cef3-dae9-4568-d286-381ff5f171fd"
   },
   "outputs": [
    {
     "name": "stdout",
     "output_type": "stream",
     "text": [
      "WARNING:tensorflow:Layer lstm_4 will not use cuDNN kernel since it doesn't meet the cuDNN kernel criteria. It will use generic GPU kernel as fallback when running on GPU\n"
     ]
    },
    {
     "name": "stderr",
     "output_type": "stream",
     "text": [
      "WARNING:tensorflow:Layer lstm_4 will not use cuDNN kernel since it doesn't meet the cuDNN kernel criteria. It will use generic GPU kernel as fallback when running on GPU\n"
     ]
    },
    {
     "name": "stdout",
     "output_type": "stream",
     "text": [
      "INFO:tensorflow:Assets written to: /tmp/tmp8e3snbit/assets\n"
     ]
    },
    {
     "name": "stderr",
     "output_type": "stream",
     "text": [
      "INFO:tensorflow:Assets written to: /tmp/tmp8e3snbit/assets\n"
     ]
    },
    {
     "name": "stdout",
     "output_type": "stream",
     "text": [
      "[{'name': 'input_5', 'index': 0, 'shape': array([  1, 256,   4], dtype=int32), 'shape_signature': array([ -1, 256,   4], dtype=int32), 'dtype': <class 'numpy.float32'>, 'quantization': (0.0, 0), 'quantization_parameters': {'scales': array([], dtype=float32), 'zero_points': array([], dtype=int32), 'quantized_dimension': 0}, 'sparsity_parameters': {}}]\n",
      "[{'name': 'Identity', 'index': 55, 'shape': array([1, 1], dtype=int32), 'shape_signature': array([-1,  1], dtype=int32), 'dtype': <class 'numpy.float32'>, 'quantization': (0.0, 0), 'quantization_parameters': {'scales': array([], dtype=float32), 'zero_points': array([], dtype=int32), 'quantized_dimension': 0}, 'sparsity_parameters': {}}]\n"
     ]
    }
   ],
   "source": [
    "keras_filename = rnn_filename\n",
    "keras_model = load_model(keras_filename)\n",
    "tflite_filename = './models/tflite_model.tflite'\n",
    "\n",
    "converter = tf.lite.TFLiteConverter.from_keras_model(keras_model)\n",
    "tflite_model = converter.convert()\n",
    "\n",
    "with tf.io.gfile.GFile(tflite_filename, 'wb') as f:\n",
    "  f.write(tflite_model)\n",
    "\n",
    "interpreter = tf.lite.Interpreter(model_content=tflite_model)\n",
    "interpreter.allocate_tensors()\n",
    "input_details = interpreter.get_input_details()\n",
    "output_details = interpreter.get_output_details()\n",
    "\n",
    "print(input_details)\n",
    "print(output_details)\n"
   ]
  },
  {
   "cell_type": "code",
   "execution_count": 147,
   "metadata": {
    "colab": {},
    "colab_type": "code",
    "id": "gLbWsUeEORzL"
   },
   "outputs": [],
   "source": [
    "def run_tflite_prediction(interpreter, data):\n",
    "    \n",
    "    # automatically return NaN for epochs with NaN \n",
    "    nan_indices = set(np.argwhere(np.isnan(data))[:, 0])    \n",
    "    \n",
    "    n_epochs = data.shape[0]\n",
    "    predict_labels = []\n",
    "\n",
    "    if nan_indices:\n",
    "        valid_epochs = [x for x in range(0, n_epochs) if x not in nan_indices]\n",
    "        for epoch in range(0, n_epochs):\n",
    "\n",
    "            if epoch in valid_epochs:\n",
    "\n",
    "                interpreter.set_tensor(input_details[0]['index'], \n",
    "                                       tf.cast(np.array([data[epoch, :, :]]), dtype=np.float32))\n",
    "                interpreter.invoke()\n",
    "                prediction = interpreter.get_tensor(output_details[0]['index'])\n",
    "                predict_labels.append(prediction[0][0])\n",
    "            else:\n",
    "                print(\"Epoch \", epoch, \" contains NaN and cannot be predicted for.\")\n",
    "                predict_labels.append(np.nan)\n",
    "    else:\n",
    "        predict_labels = clf.predict(data)\n",
    "    \n",
    "    return predict_labels"
   ]
  },
  {
   "cell_type": "code",
   "execution_count": 148,
   "metadata": {
    "colab": {
     "base_uri": "https://localhost:8080/",
     "height": 36
    },
    "colab_type": "code",
    "id": "SGL0cViwOSqa",
    "outputId": "8a23c07b-70f4-4099-f2a7-0955a15af567"
   },
   "outputs": [
    {
     "name": "stdout",
     "output_type": "stream",
     "text": [
      "Epoch  169  contains NaN and cannot be predicted for.\n"
     ]
    }
   ],
   "source": [
    "tflite_test_predict = run_tflite_prediction(interpreter, rnn_test_data)\n",
    "np.save('q1_tflite_test_outputs.npy', tflite_test_predict)\n",
    "tflite_test_predict\n",
    "\n",
    "tflite_test_predict = np.array([1 if label >= 0.5 else 0 for label in tflite_test_predict])\n",
    "np.save('q1_tflite_test_labels.npy', tflite_test_predict)"
   ]
  },
  {
   "cell_type": "code",
   "execution_count": null,
   "metadata": {
    "colab": {},
    "colab_type": "code",
    "id": "l1eVd2KfCcNX"
   },
   "outputs": [],
   "source": []
  }
 ],
 "metadata": {
  "accelerator": "GPU",
  "colab": {
   "collapsed_sections": [],
   "name": "IX_BiosignalResearchEngineerTest.ipynb",
   "provenance": [],
   "toc_visible": true
  },
  "jupytext": {
   "encoding": "# -*- coding: utf-8 -*-",
   "text_representation": {
    "extension": ".py",
    "format_name": "percent",
    "format_version": "1.2",
    "jupytext_version": "0.8.6"
   }
  },
  "kernelspec": {
   "display_name": "Python 3",
   "language": "python",
   "name": "python3"
  },
  "language_info": {
   "codemirror_mode": {
    "name": "ipython",
    "version": 3
   },
   "file_extension": ".py",
   "mimetype": "text/x-python",
   "name": "python",
   "nbconvert_exporter": "python",
   "pygments_lexer": "ipython3",
   "version": "3.8.5"
  }
 },
 "nbformat": 4,
 "nbformat_minor": 1
}
